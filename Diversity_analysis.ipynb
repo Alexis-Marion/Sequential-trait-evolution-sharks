{
 "cells": [
  {
   "cell_type": "markdown",
   "metadata": {},
   "source": [
    "# Diversity analysis"
   ]
  },
  {
   "cell_type": "code",
   "execution_count": null,
   "metadata": {},
   "outputs": [],
   "source": [
    "# Diversity analysis"
   ]
  },
  {
   "cell_type": "markdown",
   "metadata": {},
   "source": [
    "## I Data preparation"
   ]
  },
  {
   "cell_type": "code",
   "execution_count": null,
   "metadata": {},
   "outputs": [],
   "source": [
    "# I Data preparation"
   ]
  },
  {
   "cell_type": "markdown",
   "metadata": {},
   "source": [
    "### Loading packages"
   ]
  },
  {
   "cell_type": "code",
   "execution_count": null,
   "metadata": {},
   "outputs": [],
   "source": [
    "# Loading Packages\n",
    "library(\"diversitree\")\n",
    "library(\"stringr\")\n",
    "library(\"qpcR\")\n",
    "library(\"ggtree\")\n",
    "library(\"ggplot2\")\n",
    "library(\"ggpmisc\")"
   ]
  },
  {
   "cell_type": "markdown",
   "metadata": {},
   "source": [
    "### Loading data"
   ]
  },
  {
   "cell_type": "code",
   "execution_count": null,
   "metadata": {},
   "outputs": [],
   "source": [
    "# Loading Packages\n",
    "df<-read.csv(\"Path/to/your/file.tsv\", sep=\"\\t\")\n",
    "nex<-read.nexus(\"Path/to/your/tree.tree\")"
   ]
  },
  {
   "cell_type": "markdown",
   "metadata": {},
   "source": [
    "### Aicc function"
   ]
  },
  {
   "cell_type": "code",
   "execution_count": null,
   "metadata": {},
   "outputs": [],
   "source": [
    "# Aicc function\n",
    "aicc<-function(ll,k){round((2*(-round(ll,4))+2*k+(2*k*(k+1))/(Ntip(nex)-k-1)),3)}"
   ]
  },
  {
   "cell_type": "markdown",
   "metadata": {},
   "source": [
    "### Optional step (cleaning data)"
   ]
  },
  {
   "cell_type": "code",
   "execution_count": null,
   "metadata": {},
   "outputs": [],
   "source": [
    "# Optional step (cleaning data)\n",
    "rownames(df)<-str_replace(rownames(df), \" \", \"_\")\n",
    "states<-as.numeric(df$clust.num)\n",
    "names(states)<-rownames(df)\n",
    "states2<-states[!names(states) %in% setdiff(names(states), nex$tip.label)]\n",
    "nex3<-drop.tip(nex, setdiff(nex$tip.label, (names(states))))"
   ]
  },
  {
   "cell_type": "markdown",
   "metadata": {},
   "source": [
    "### Computing sampling fractions"
   ]
  },
  {
   "cell_type": "code",
   "execution_count": null,
   "metadata": {},
   "outputs": [],
   "source": [
    "# Computing sampling fractions\n",
    "samp_frac<-c(\n",
    "length(states2[states2==1])/length(df$clust.num[df$clust.num==1]),\n",
    "length(states2[states2==2])/length(df$clust.num[df$clust.num==2]),\n",
    "length(states2[states2==3])/length(df$clust.num[df$clust.num==3]),\n",
    "length(states2[states2==4])/length(df$clust.num[df$clust.num==4]),\n",
    "length(states2[states2==5])/length(df$clust.num[df$clust.num==5]))"
   ]
  },
  {
   "cell_type": "markdown",
   "metadata": {},
   "source": [
    "## II Likelihood analysis"
   ]
  },
  {
   "cell_type": "markdown",
   "metadata": {},
   "source": [
    "### initialization"
   ]
  },
  {
   "cell_type": "code",
   "execution_count": null,
   "metadata": {},
   "outputs": [],
   "source": [
    "# initialization\n",
    "lik<-make.musse(nex3, states2, 5, sampling.f = samp_frac, strict=TRUE)\n",
    "p <- starting.point.musse(nex3, 5)"
   ]
  },
  {
   "cell_type": "markdown",
   "metadata": {},
   "source": [
    "### Complete model"
   ]
  },
  {
   "cell_type": "code",
   "execution_count": null,
   "metadata": {},
   "outputs": [],
   "source": [
    "# Complete model\n",
    "lik.all.free<-constrain(lik)\n",
    "fit.all.free<-find.mle(lik.all.free, p[argnames(lik.all.free)])"
   ]
  },
  {
   "cell_type": "code",
   "execution_count": null,
   "metadata": {},
   "outputs": [],
   "source": [
    "p<-fit.all.free$par"
   ]
  },
  {
   "cell_type": "markdown",
   "metadata": {},
   "source": [
    "### Null model"
   ]
  },
  {
   "cell_type": "code",
   "execution_count": null,
   "metadata": {
    "scrolled": true
   },
   "outputs": [],
   "source": [
    "# Null model\n",
    "lik.base <- constrain(lik,\n",
    "lambda5 ~ lambda1, lambda4 ~ lambda1, lambda3 ~ lambda1, lambda2 ~ lambda1,\n",
    "mu5 ~ mu1, mu4 ~ mu1, mu3 ~ mu1, mu2 ~ mu1,\n",
    "q15 ~ q12, q14 ~ q12, q13 ~ q12,\n",
    "q25 ~ q12, q24 ~ q12, q23 ~ q12, q21 ~ q12,\n",
    "q35 ~ q12, q34 ~ q12, q32 ~ q12, q31 ~ q12,\n",
    "q45 ~ q12, q43 ~ q12, q42 ~ q12, q41 ~ q12,\n",
    "q54 ~ q12, q53 ~ q12, q52 ~ q12, q51 ~ q12)\n",
    "\n",
    "fit.base <- find.mle(lik.base, p[argnames(lik.base)])"
   ]
  },
  {
   "cell_type": "markdown",
   "metadata": {},
   "source": [
    "### Free speciation model"
   ]
  },
  {
   "cell_type": "code",
   "execution_count": null,
   "metadata": {},
   "outputs": [],
   "source": [
    "# Free speciation model\n",
    "lik.sp <- constrain(lik,\n",
    "mu5 ~ mu1, mu4 ~ mu1, mu3 ~ mu1, mu2 ~ mu1,\n",
    "q15 ~ q12, q14 ~ q12, q13 ~ q12,\n",
    "q25 ~ q12, q24 ~ q12, q23 ~ q12, q21 ~ q12,\n",
    "q35 ~ q12, q34 ~ q12, q32 ~ q12, q31 ~ q12,\n",
    "q45 ~ q12, q43 ~ q12, q42 ~ q12, q41 ~ q12,\n",
    "q54 ~ q12, q53 ~ q12, q52 ~ q12, q51 ~ q12)\n",
    "fit.sp <- find.mle(lik.sp, p[argnames(lik.sp)])"
   ]
  },
  {
   "cell_type": "markdown",
   "metadata": {},
   "source": [
    "### Free extinction model"
   ]
  },
  {
   "cell_type": "code",
   "execution_count": null,
   "metadata": {
    "scrolled": false
   },
   "outputs": [],
   "source": [
    "# Free extinction model\n",
    "lik.ext <- constrain(lik,\n",
    "lambda5 ~ lambda1, lambda4 ~ lambda1, lambda3 ~ lambda1, lambda2 ~ lambda1,\n",
    "q15 ~ q12, q14 ~ q12, q13 ~ q12,\n",
    "q25 ~ q12, q24 ~ q12, q23 ~ q12, q21 ~ q12,\n",
    "q35 ~ q12, q34 ~ q12, q32 ~ q12, q31 ~ q12,\n",
    "q45 ~ q12, q43 ~ q12, q42 ~ q12, q41 ~ q12,\n",
    "q54 ~ q12, q53 ~ q12, q52 ~ q12, q51 ~ q12)           \n",
    "fit.ext <- find.mle(lik.ext, p[argnames(lik.ext)])"
   ]
  },
  {
   "cell_type": "markdown",
   "metadata": {},
   "source": [
    "### Free transition model"
   ]
  },
  {
   "cell_type": "code",
   "execution_count": null,
   "metadata": {
    "scrolled": true
   },
   "outputs": [],
   "source": [
    "# Free transition model\n",
    "lik.qt<-constrain(lik,                  \n",
    "lambda5 ~ lambda1, lambda4 ~ lambda1, lambda3 ~ lambda1, lambda2 ~ lambda1,\n",
    "mu5 ~ mu1, mu4 ~ mu1, mu3 ~ mu1, mu2 ~ mu1)\n",
    "fit.qt <- find.mle(lik.qt, p[argnames(lik.qt)])"
   ]
  },
  {
   "cell_type": "markdown",
   "metadata": {},
   "source": [
    "### Free speciation-extinction model"
   ]
  },
  {
   "cell_type": "code",
   "execution_count": null,
   "metadata": {},
   "outputs": [],
   "source": [
    "# Free speciation-extinction model\n",
    "lik.sp_ext<-constrain(lik,\n",
    "q15 ~ q12, q14 ~ q12, q13 ~ q12,\n",
    "q25 ~ q12, q24 ~ q12, q23 ~ q12, q21 ~ q12,\n",
    "q35 ~ q12, q34 ~ q12, q32 ~ q12, q31 ~ q12,\n",
    "q45 ~ q12, q43 ~ q12, q42 ~ q12, q41 ~ q12,\n",
    "q54 ~ q12, q53 ~ q12, q52 ~ q12, q51 ~ q12)\n",
    "fit.sp_ext<- find.mle(lik.sp_ext, p[argnames(lik.sp_ext)])"
   ]
  },
  {
   "cell_type": "markdown",
   "metadata": {},
   "source": [
    "### Free speciation-transition model"
   ]
  },
  {
   "cell_type": "code",
   "execution_count": null,
   "metadata": {},
   "outputs": [],
   "source": [
    "# Free speciation-transition model\n",
    "lik.sp_qt<-constrain(lik, \n",
    "mu5 ~ mu1, mu4 ~ mu1, mu3 ~ mu1, mu2 ~ mu1)\n",
    "fit.sp_qt<- find.mle(lik.sp_qt, p[argnames(lik.sp_qt)])"
   ]
  },
  {
   "cell_type": "markdown",
   "metadata": {},
   "source": [
    "### Free transition-extinction model"
   ]
  },
  {
   "cell_type": "code",
   "execution_count": null,
   "metadata": {},
   "outputs": [],
   "source": [
    "# Free transition-extinction model\n",
    "lik.qt_ext<-constrain(lik,\n",
    "lambda5 ~ lambda1, lambda4 ~ lambda1, lambda3 ~ lambda1, lambda2 ~ lambda1)\n",
    "fit.qt_ext<- find.mle(lik.qt_ext, p[argnames(lik.qt_ext)])"
   ]
  },
  {
   "cell_type": "markdown",
   "metadata": {},
   "source": [
    "### Comparaison table"
   ]
  },
  {
   "cell_type": "code",
   "execution_count": null,
   "metadata": {
    "scrolled": true
   },
   "outputs": [],
   "source": [
    "# Comparaison table\n",
    "results<-matrix(NA,8,35) \n",
    "\n",
    "\n",
    "colnames(results)<-c(\"Nbparam\",\"logL\",\"AICc\",\"DeltaAIC\", \"WAIC\",argnames(lik))\n",
    "\n",
    "rownames(results)<-c(\"base\",\"sp\",\"ext\",\"qt\",\"sp_qt\",\"sp_ext\",\"qt_ext\",\"all.free\")\n",
    "\n",
    "for(j in 1:length(rownames(results)))\n",
    "{\n",
    "eval(parse(text=paste(\"results[j,names(fit.\",rownames(results)[j],\"$par)]<-fit.\",rownames(results)[j],\"$par\",sep=\"\")))\n",
    "eval(parse(text=paste(\"results[j,'Nbparam']<-length(fit.\",rownames(results)[j],\"$par)\",sep=\"\")))\n",
    "eval(parse(text=paste(\"results[j,'logL']<-fit.\",rownames(results)[j],\"$lnLik\",sep=\"\")))\n",
    "eval(parse(text=paste(\"results[j,'AICc']<-aicc(fit.\",rownames(results)[j],\"$lnLik,length(fit.\",rownames(results)[j],\"$par) )\",sep=\"\")))\n",
    "}\n",
    "\n",
    "results[,4] <- round(akaike.weights(results[,3])$deltaAIC, 3)\n",
    "results[,5] <- round(akaike.weights(results[,3])$weights, 3)\n",
    "print(results)"
   ]
  },
  {
   "cell_type": "markdown",
   "metadata": {},
   "source": [
    "### Saving data"
   ]
  },
  {
   "cell_type": "code",
   "execution_count": null,
   "metadata": {
    "scrolled": true
   },
   "outputs": [],
   "source": [
    "# Saving data\n",
    "write.csv(results, \"Result_tab.csv\")"
   ]
  },
  {
   "cell_type": "markdown",
   "metadata": {},
   "source": [
    "## III Bayesian analysis"
   ]
  },
  {
   "cell_type": "code",
   "execution_count": null,
   "metadata": {},
   "outputs": [],
   "source": [
    "# III Bayesian analysis"
   ]
  },
  {
   "cell_type": "markdown",
   "metadata": {},
   "source": [
    "### Setting priors"
   ]
  },
  {
   "cell_type": "code",
   "execution_count": null,
   "metadata": {},
   "outputs": [],
   "source": [
    "# Setting priors\n",
    "p<-fit.sp_qt$par\n",
    "prior <- make.prior.exponential(1/(2*(p[3]-p[8])))"
   ]
  },
  {
   "cell_type": "markdown",
   "metadata": {},
   "source": [
    "### Running the analysis for 1000 generation and screening every 10 generation"
   ]
  },
  {
   "cell_type": "code",
   "execution_count": null,
   "metadata": {},
   "outputs": [],
   "source": [
    "# Running the analysis for 1000 generation and screening every 10 generation\n",
    "set.seed(1)\n",
    "tmp <- mcmc(lik.sp_qt, p, nsteps=100, prior=prior, w=1, print.every=10)\n",
    "\n",
    "w <- diff(sapply(tmp[2:(length(tmp)-1)], quantile, c(0.025, 0.975)))\n",
    "\n",
    "mcmc_MuSSE <- mcmc(lik.sp_qt, p, nsteps=1000, prior=prior, w=w)\n",
    "save(mcmc_MuSSE, file=\"Path/to/Your_MCMC_DATA\")"
   ]
  },
  {
   "cell_type": "markdown",
   "metadata": {},
   "source": [
    "### Burn-in period"
   ]
  },
  {
   "cell_type": "code",
   "execution_count": null,
   "metadata": {},
   "outputs": [],
   "source": [
    "#Burn-in period\n",
    "mcmc_MuSSE_new <- subset(mcmc_MuSSE, i > 100)\n",
    "\n",
    "pdf(\"Path/to/Appendix_burnin.pdf\")\n",
    "\n",
    "par(mfrow=c(1,1), mar=c(3,4,1,1))\n",
    "\n",
    "plot(mcmc_MuSSE_new$i, mcmc_MuSSE_new$p, xlim=c(0,10000), ty=\"l\", xlab=\"Generations\", ylab=\"log-likelihood\", bty=\"n\", main=\"After a 10% burn-in\", cex.main=\"0.8\")\n",
    "\n",
    "dev.off()"
   ]
  },
  {
   "cell_type": "markdown",
   "metadata": {},
   "source": [
    "### Setting the diversification difference"
   ]
  },
  {
   "cell_type": "code",
   "execution_count": null,
   "metadata": {},
   "outputs": [],
   "source": [
    "# Setting the diversification difference\n",
    "mcmc_MuSSEdiff <- with(mcmc_MuSSE_new, data.frame(S1 = lambda1, S2 = lambda2,  S3 = lambda3,   S4 = lambda4,   S5 = lambda5))\n",
    "\n",
    "mcmc_MuSSEdiffS1 <- with(mcmc_MuSSE_new, data.frame(S1_2 = lambda1 - lambda2))\n",
    "mcmc_MuSSEdiffS2 <- with(mcmc_MuSSE_new, data.frame(S1_3 = lambda1 - lambda3))\n",
    "mcmc_MuSSEdiffS3 <- with(mcmc_MuSSE_new, data.frame(S2_3 = lambda2 - lambda3))\n",
    "mcmc_MuSSEdiffS4 <- with(mcmc_MuSSE_new, data.frame(S1_4 = lambda1 - lambda4))\n",
    "mcmc_MuSSEdiffS5 <- with(mcmc_MuSSE_new, data.frame(S1_5 = lambda1 - lambda5))\n",
    "mcmc_MuSSEdiffS7 <- with(mcmc_MuSSE_new, data.frame(S2_4 = lambda2 - lambda4))\n",
    "mcmc_MuSSEdiffS8 <- with(mcmc_MuSSE_new, data.frame(S1_5 = lambda2 - lambda5))\n",
    "mcmc_MuSSEdiffS10 <- with(mcmc_MuSSE_new, data.frame(S3_4 = lambda3 - lambda4))\n",
    "mcmc_MuSSEdiffS11 <- with(mcmc_MuSSE_new, data.frame(S3_5 = lambda3 - lambda5))\n",
    "mcmc_MuSSEdiffS13 <- with(mcmc_MuSSE_new, data.frame(S4_5 = lambda4 - lambda5))"
   ]
  },
  {
   "cell_type": "markdown",
   "metadata": {},
   "source": [
    "### Plot speciation "
   ]
  },
  {
   "cell_type": "code",
   "execution_count": null,
   "metadata": {},
   "outputs": [],
   "source": [
    "# Plot speciation \n",
    "\n",
    "pdf(\"Path/to/Figure-MuSSE.pdf\")\n",
    "\n",
    "par( mar=c(3,4,1,1))\n",
    "\n",
    "colors=c(\"deepskyblue\",\"grey\", \"yellow\", \"red\", \"green\")\n",
    "\n",
    "profiles.plot(mcmc_MuSSEdiff[1:5], col.line=colors, xlim=c(0,0.07), xlab=\"\", ylab=\"\", las=1, bty=\"n\", main=\"a) Speciation rates\", cex.main=0.8, n.br = 100)\n",
    "\n",
    "legend(\"topright\", bty=\"n\", c(\"Shelf shark\", \"Oceanic shark\", \"Small deep shark\", \"Small reef shark\", \"Big reef shark\"), col= colors, lty=1,lwd=\"4\",cex=0.6)\n",
    "\n",
    "dev.off()"
   ]
  },
  {
   "cell_type": "markdown",
   "metadata": {},
   "source": [
    "### Plot speciation difference"
   ]
  },
  {
   "cell_type": "code",
   "execution_count": null,
   "metadata": {},
   "outputs": [],
   "source": [
    "# Plot speciation difference\n",
    "pdf(\"Path/to/Appendix-Differences-MuSSE-speciation-rates-MCMC.pdf\")\n",
    "\n",
    "par(mfrow=c(5,3), mar=c(3,4,1,1))\n",
    "\n",
    "colors=c(\"deepskyblue\",\"grey\", \"yellow\", \"red\", \"green\")\n",
    "\n",
    "#diff r1 and r2\n",
    "profiles.plot(mcmc_MuSSEdiffS1[1], col.line=c(\"grey\"), xlim=c(-0.05,0.05), xlab=\"\", ylab=\"\", las=1, bty=\"n\", main=\"a) Difference between blue and grey diversification\", cex.main=0.8)\n",
    "abline(v=c(0),col=\"red\")\n",
    "\n",
    "#diff r1 and r3\n",
    "profiles.plot(mcmc_MuSSEdiffS2[1], col.line=c(\"grey\"), xlim=c(-0.15,0.05), xlab=\"\", ylab=\"\", las=1, bty=\"n\", main=\"b) Difference between blue and yellow diversification\", cex.main=0.8)\n",
    "abline(v=c(0),col=\"red\")\n",
    "\n",
    "#diff r1 and r4\n",
    "profiles.plot(mcmc_MuSSEdiffS4[1], col.line=c(\"grey\"), xlim=c(-0.05,0.05), xlab=\"\", ylab=\"\", las=1, bty=\"n\", main=\"d) Difference between blue and red diversification\", cex.main=0.8)\n",
    "abline(v=c(0),col=\"red\")\n",
    "\n",
    "#diff r1 and r5\n",
    "profiles.plot(mcmc_MuSSEdiffS5[1], col.line=c(\"grey\"), xlim=c(-0.15,0.05), xlab=\"\", ylab=\"\", las=1, bty=\"n\", main=\"e) Difference between blue and green diversification\", cex.main=0.8)\n",
    "abline(v=c(0),col=\"red\")\n",
    "\n",
    "#diff r2 and r3\n",
    "profiles.plot(mcmc_MuSSEdiffS3[1], col.line=c(\"grey\"), xlim=c(-0.15,0.05), xlab=\"\", ylab=\"\", las=1, bty=\"n\", main=\"c) Difference between grey and yellow diversification\", cex.main=0.8)\n",
    "abline(v=c(0),col=\"red\")\n",
    "\n",
    "#diff r2 and r4\n",
    "profiles.plot(mcmc_MuSSEdiffS7[1], col.line=c(\"grey\"), xlim=c(-0.05,0.05), xlab=\"\", ylab=\"\", las=1, bty=\"n\", main=\"f) Difference between grey and red diversification\", cex.main=0.8)\n",
    "abline(v=c(0),col=\"red\")\n",
    "\n",
    "#diff r2 and r5\n",
    "profiles.plot(mcmc_MuSSEdiffS8[1], col.line=c(\"grey\"), xlim=c(-0.15,0.05), xlab=\"\", ylab=\"\", las=1, bty=\"n\", main=\"g) Difference between grey and green diversification\", cex.main=0.8)\n",
    "abline(v=c(0),col=\"red\")\n",
    "\n",
    "#diff r3 and r4\n",
    "profiles.plot(mcmc_MuSSEdiffS10[1], col.line=c(\"grey\"), xlim=c(-0.05,0.05), xlab=\"\", ylab=\"\", las=1, bty=\"n\", main=\"h) Difference between yellow and red diversification\", cex.main=0.8)\n",
    "abline(v=c(0),col=\"red\")\n",
    "\n",
    "#diff r3 and r5\n",
    "profiles.plot(mcmc_MuSSEdiffS11[1], col.line=c(\"grey\"), xlim=c(-0.15,0.05), xlab=\"\", ylab=\"\", las=1, bty=\"n\", main=\"i) Difference between yellow and green diversification\", cex.main=0.8)\n",
    "abline(v=c(0),col=\"red\")\n",
    "\n",
    "#diff r4 and r5\n",
    "profiles.plot(mcmc_MuSSEdiffS13[1], col.line=c(\"grey\"), xlim=c(-0.05,0.05), xlab=\"\", ylab=\"\", las=1, bty=\"n\", main=\"j) Difference between red and green diversification\", cex.main=0.8)\n",
    "abline(v=c(0),col=\"red\")\n",
    "\n",
    "dev.off()"
   ]
  },
  {
   "cell_type": "markdown",
   "metadata": {},
   "source": [
    "## IV Ancestral state estimmation"
   ]
  },
  {
   "cell_type": "code",
   "execution_count": null,
   "metadata": {},
   "outputs": [],
   "source": [
    "# IV Ancestral state estimmation"
   ]
  },
  {
   "cell_type": "code",
   "execution_count": null,
   "metadata": {
    "scrolled": false
   },
   "outputs": [],
   "source": [
    "attach(\"Shark_MCMC_DATA\")"
   ]
  },
  {
   "cell_type": "code",
   "execution_count": null,
   "metadata": {},
   "outputs": [],
   "source": [
    "mcmc_MuSSE_new <- subset(mcmc_MuSSE, i > 100)"
   ]
  },
  {
   "cell_type": "markdown",
   "metadata": {},
   "source": [
    "### Applying the ancestral state estimmation for each trait"
   ]
  },
  {
   "cell_type": "code",
   "execution_count": null,
   "metadata": {},
   "outputs": [],
   "source": [
    "# Applying the ancestral state estimmation for each trait\n",
    "st1<-apply(mcmc_MuSSE_new[2:27], 1, function(x) asr.marginal(lik.sp_qt, x)[1,])\n",
    "st2<-apply(mcmc_MuSSE_new[2:27], 1, function(x) asr.marginal(lik.sp_qt, x)[2,])\n",
    "st3<-apply(mcmc_MuSSE_new[2:27], 1, function(x) asr.marginal(lik.sp_qt, x)[3,])\n",
    "st4<-apply(mcmc_MuSSE_new[2:27], 1, function(x) asr.marginal(lik.sp_qt, x)[4,])\n",
    "st5<-apply(mcmc_MuSSE_new[2:27], 1, function(x) asr.marginal(lik.sp_qt, x)[5,])"
   ]
  },
  {
   "cell_type": "code",
   "execution_count": null,
   "metadata": {},
   "outputs": [],
   "source": [
    "st.m.avg1<-rowMeans(st1)\n",
    "st.m.avg2<-rowMeans(st2)\n",
    "st.m.avg3<-rowMeans(st3)\n",
    "st.m.avg4<-rowMeans(st4)\n",
    "st.m.avg5<-rowMeans(st5)"
   ]
  },
  {
   "cell_type": "code",
   "execution_count": null,
   "metadata": {},
   "outputs": [],
   "source": [
    "table_ASE<-as.data.frame(t(rbind(st.m.avg1, st.m.avg2, st.m.avg3, st.m.avg4, st.m.avg5)))"
   ]
  },
  {
   "cell_type": "markdown",
   "metadata": {},
   "source": [
    "### Saving the probability table"
   ]
  },
  {
   "cell_type": "code",
   "execution_count": null,
   "metadata": {},
   "outputs": [],
   "source": [
    "# Saving the probability table\n",
    "write.csv(as.data.frame(table_ASE), \"Table_MCMC_ASE.csv\")"
   ]
  },
  {
   "cell_type": "markdown",
   "metadata": {},
   "source": [
    "## V Plotting the Ancestral State Estimmation"
   ]
  },
  {
   "cell_type": "code",
   "execution_count": null,
   "metadata": {},
   "outputs": [],
   "source": [
    "# V Plotting the Ancestral State Estimmation"
   ]
  },
  {
   "cell_type": "markdown",
   "metadata": {},
   "source": [
    "### Generating the tree (semicircular)"
   ]
  },
  {
   "cell_type": "code",
   "execution_count": null,
   "metadata": {
    "scrolled": true
   },
   "outputs": [],
   "source": [
    "# Generating the tree (semicircular)\n",
    "phy_cil<-ggtree(nex3, layout=\"fan\", open.angle=15)  + \n",
    "theme_bw() +\n",
    "      theme(panel.border = element_blank(),\n",
    "            legend.key = element_blank(),\n",
    "           axis.ticks = element_blank(),\n",
    "           axis.text.y = element_blank(),\n",
    "           axis.text.x = element_blank(),\n",
    "           panel.grid = element_blank(),\n",
    "           panel.grid.minor = element_blank(), \n",
    "           panel.grid.major = element_blank(),\n",
    "                   panel.background = element_blank(),\n",
    "               plot.background = element_rect(fill = \"transparent\",colour = NA))"
   ]
  },
  {
   "cell_type": "markdown",
   "metadata": {},
   "source": [
    "### Generating pie chart for each node"
   ]
  },
  {
   "cell_type": "code",
   "execution_count": null,
   "metadata": {
    "scrolled": true
   },
   "outputs": [],
   "source": [
    "# Generating pie chart for each node\n",
    "table_ASE$node<-c(377:751) # selecting internal nodes\n",
    "pies <- nodepie(table_ASE, cols=1:5, color=c('#9E0142', '#F46D43', '#FEE08B', '#ABDDA4', '#5E4FA2'), alpha=1)"
   ]
  },
  {
   "cell_type": "markdown",
   "metadata": {},
   "source": [
    "### Integrating pie chart into the phylogeny"
   ]
  },
  {
   "cell_type": "code",
   "execution_count": null,
   "metadata": {},
   "outputs": [],
   "source": [
    "# Integrating pie chart into the phylogeny\n",
    "df_ASE<-tibble::tibble(node=as.numeric(table_ASE$node), pies=pies)\n",
    "phy_cil2 <- phy_cil %<+% df_ASE\n",
    "ASE_plot<-phy_cil2 + geom_plot(data=td_filter(!isTip), mapping=aes(x=x,y=y, label=pies), vp.width=0.03, vp.height=0.03, hjust=0.57, vjust=0.57) "
   ]
  },
  {
   "cell_type": "code",
   "execution_count": null,
   "metadata": {},
   "outputs": [],
   "source": [
    "df_tip<-as.data.frame(as.matrix(states2))"
   ]
  },
  {
   "cell_type": "code",
   "execution_count": null,
   "metadata": {},
   "outputs": [],
   "source": [
    "df_tip<-as.data.frame(cbind(names(states2),states2))\n",
    "phy_cil3 <- ASE_plot %<+% df_tip\n",
    "ASE_plot_2<-phy_cil3 + geom_tippoint(data=td_filter(isTip),aes(color=states2), size=0.4) + scale_color_manual(values=c('#9E0142', '#F46D43', '#FEE08B', '#ABDDA4', '#5E4FA2'))"
   ]
  },
  {
   "cell_type": "markdown",
   "metadata": {},
   "source": [
    "### Saving the tree"
   ]
  },
  {
   "cell_type": "code",
   "execution_count": null,
   "metadata": {
    "scrolled": true
   },
   "outputs": [],
   "source": [
    "# Saving the tree\n",
    "ggsave(ASE_plot_2, filename = \"Path/to/output.pdf\",  bg = \"transparent\", width = 10, height = 10)"
   ]
  }
 ],
 "metadata": {
  "kernelspec": {
   "display_name": "R",
   "language": "R",
   "name": "ir"
  },
  "language_info": {
   "codemirror_mode": "r",
   "file_extension": ".r",
   "mimetype": "text/x-r-source",
   "name": "R",
   "pygments_lexer": "r",
   "version": "4.2.2"
  }
 },
 "nbformat": 4,
 "nbformat_minor": 5
}
