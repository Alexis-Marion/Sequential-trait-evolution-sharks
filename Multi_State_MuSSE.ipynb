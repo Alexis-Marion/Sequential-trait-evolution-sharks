{
 "cells": [
  {
   "cell_type": "markdown",
   "metadata": {},
   "source": [
    "## Multi binary state : habitat"
   ]
  },
  {
   "cell_type": "code",
   "execution_count": 1,
   "metadata": {},
   "outputs": [],
   "source": [
    "# Multi binary state : habitat"
   ]
  },
  {
   "cell_type": "markdown",
   "metadata": {},
   "source": [
    "## I Data preparation"
   ]
  },
  {
   "cell_type": "code",
   "execution_count": 2,
   "metadata": {},
   "outputs": [],
   "source": [
    "## I Data preparation"
   ]
  },
  {
   "cell_type": "markdown",
   "metadata": {},
   "source": [
    "### Loading packages"
   ]
  },
  {
   "cell_type": "code",
   "execution_count": 3,
   "metadata": {},
   "outputs": [],
   "source": [
    "### Loading packages"
   ]
  },
  {
   "cell_type": "code",
   "execution_count": 4,
   "metadata": {
    "scrolled": true
   },
   "outputs": [
    {
     "name": "stderr",
     "output_type": "stream",
     "text": [
      "Le chargement a nécessité le package : ape\n",
      "\n",
      "Le chargement a nécessité le package : MASS\n",
      "\n",
      "Le chargement a nécessité le package : minpack.lm\n",
      "\n",
      "Le chargement a nécessité le package : rgl\n",
      "\n",
      "This build of rgl does not include OpenGL functions.  Use\n",
      " rglwidget() to display results, e.g. via options(rgl.printRglwidget = TRUE).\n",
      "\n",
      "Le chargement a nécessité le package : robustbase\n",
      "\n",
      "Le chargement a nécessité le package : Matrix\n",
      "\n"
     ]
    }
   ],
   "source": [
    "library(\"diversitree\")\n",
    "library(\"stringr\")\n",
    "library(\"qpcR\")"
   ]
  },
  {
   "cell_type": "markdown",
   "metadata": {},
   "source": [
    "### Loading data"
   ]
  },
  {
   "cell_type": "code",
   "execution_count": 5,
   "metadata": {},
   "outputs": [],
   "source": [
    "### Loading data"
   ]
  },
  {
   "cell_type": "code",
   "execution_count": 6,
   "metadata": {},
   "outputs": [],
   "source": [
    "my_df<-read.csv(\"Trait_syndrom_tab.tsv\", sep=\"\\t\")"
   ]
  },
  {
   "cell_type": "code",
   "execution_count": 7,
   "metadata": {},
   "outputs": [],
   "source": [
    "aicc<-function(ll,k){round((2*(-round(ll,4))+2*k+(2*k*(k+1))/(Ntip(phy2.0)-k-1)),3)}"
   ]
  },
  {
   "cell_type": "code",
   "execution_count": 8,
   "metadata": {},
   "outputs": [],
   "source": [
    "rownames(my_df)<-str_replace(rownames(my_df), \" \", \"_\")"
   ]
  },
  {
   "cell_type": "code",
   "execution_count": 9,
   "metadata": {},
   "outputs": [],
   "source": [
    "phy<-read.nexus(\"382sp_16C_20FC.tree\")"
   ]
  },
  {
   "cell_type": "code",
   "execution_count": 10,
   "metadata": {
    "scrolled": true
   },
   "outputs": [
    {
     "data": {
      "text/html": [
       "<table class=\"dataframe\">\n",
       "<caption>A data.frame: 528 × 10</caption>\n",
       "<thead>\n",
       "\t<tr><th></th><th scope=col>Consensus</th><th scope=col>Reproduction</th><th scope=col>Lower.Slope.Deep</th><th scope=col>Upper.Slope</th><th scope=col>Shelf</th><th scope=col>Reef</th><th scope=col>Coastal</th><th scope=col>Oceano.Pelagic</th><th scope=col>Your_variable</th><th scope=col>clust.num</th></tr>\n",
       "\t<tr><th></th><th scope=col>&lt;dbl&gt;</th><th scope=col>&lt;chr&gt;</th><th scope=col>&lt;chr&gt;</th><th scope=col>&lt;chr&gt;</th><th scope=col>&lt;chr&gt;</th><th scope=col>&lt;chr&gt;</th><th scope=col>&lt;chr&gt;</th><th scope=col>&lt;chr&gt;</th><th scope=col>&lt;dbl&gt;</th><th scope=col>&lt;int&gt;</th></tr>\n",
       "</thead>\n",
       "<tbody>\n",
       "\t<tr><th scope=row>Mollisquama_mississippiensis</th><td>14.0</td><td>YV</td><td>Yes</td><td>No </td><td>No </td><td>No</td><td>No</td><td>No</td><td>2.639057</td><td>1</td></tr>\n",
       "\t<tr><th scope=row>Parmaturus_campechiensis</th><td>16.0</td><td>O </td><td>Yes</td><td>No </td><td>No </td><td>No</td><td>No</td><td>No</td><td>2.772589</td><td>1</td></tr>\n",
       "\t<tr><th scope=row>Apristurus_sibogae</th><td>21.0</td><td>O </td><td>Yes</td><td>No </td><td>No </td><td>No</td><td>No</td><td>No</td><td>3.044522</td><td>1</td></tr>\n",
       "\t<tr><th scope=row>Etmopterus_carteri</th><td>21.0</td><td>YV</td><td>No </td><td>Yes</td><td>No </td><td>No</td><td>No</td><td>No</td><td>3.044522</td><td>1</td></tr>\n",
       "\t<tr><th scope=row>Etmopterus_perryi</th><td>21.0</td><td>YV</td><td>No </td><td>Yes</td><td>No </td><td>No</td><td>No</td><td>No</td><td>3.044522</td><td>1</td></tr>\n",
       "\t<tr><th scope=row>Etmopterus_marshae</th><td>23.0</td><td>YV</td><td>No </td><td>Yes</td><td>No </td><td>No</td><td>No</td><td>No</td><td>3.135494</td><td>1</td></tr>\n",
       "\t<tr><th scope=row>Etmopterus_polli</th><td>24.0</td><td>YV</td><td>Yes</td><td>Yes</td><td>No </td><td>No</td><td>No</td><td>No</td><td>3.178054</td><td>1</td></tr>\n",
       "\t<tr><th scope=row>Squaliolus_aliae</th><td>24.0</td><td>YV</td><td>Yes</td><td>No </td><td>No </td><td>No</td><td>No</td><td>No</td><td>3.178054</td><td>1</td></tr>\n",
       "\t<tr><th scope=row>Apristurus_investigatoris</th><td>26.0</td><td>O </td><td>Yes</td><td>No </td><td>No </td><td>No</td><td>No</td><td>No</td><td>3.258097</td><td>1</td></tr>\n",
       "\t<tr><th scope=row>Eridacnis_radcliffei</th><td>26.0</td><td>YV</td><td>No </td><td>Yes</td><td>No </td><td>No</td><td>No</td><td>No</td><td>3.258097</td><td>1</td></tr>\n",
       "\t<tr><th scope=row>Etmopterus_virens</th><td>26.0</td><td>YV</td><td>Yes</td><td>Yes</td><td>No </td><td>No</td><td>No</td><td>No</td><td>3.258097</td><td>1</td></tr>\n",
       "\t<tr><th scope=row>Scymnodalatias_oligodon</th><td>26.0</td><td>YV</td><td>Yes</td><td>No </td><td>No </td><td>No</td><td>No</td><td>No</td><td>3.258097</td><td>1</td></tr>\n",
       "\t<tr><th scope=row>Etmopterus_sentosus</th><td>27.0</td><td>YV</td><td>No </td><td>Yes</td><td>No </td><td>No</td><td>No</td><td>No</td><td>3.295837</td><td>1</td></tr>\n",
       "\t<tr><th scope=row>Euprotomicrus_bispinatus</th><td>27.0</td><td>YV</td><td>Yes</td><td>No </td><td>No </td><td>No</td><td>No</td><td>No</td><td>3.295837</td><td>1</td></tr>\n",
       "\t<tr><th scope=row>Holohalaelurus_grennian</th><td>27.0</td><td>O </td><td>No </td><td>Yes</td><td>No </td><td>No</td><td>No</td><td>No</td><td>3.295837</td><td>1</td></tr>\n",
       "\t<tr><th scope=row>Etmopterus_samadiae</th><td>28.0</td><td>YV</td><td>Yes</td><td>Yes</td><td>No </td><td>No</td><td>No</td><td>No</td><td>3.332205</td><td>1</td></tr>\n",
       "\t<tr><th scope=row>Squaliolus_laticaudus</th><td>28.0</td><td>YV</td><td>Yes</td><td>No </td><td>No </td><td>No</td><td>No</td><td>No</td><td>3.332205</td><td>1</td></tr>\n",
       "\t<tr><th scope=row>Etmopterus_decacuspidatus</th><td>29.0</td><td>YV</td><td>Yes</td><td>No </td><td>No </td><td>No</td><td>No</td><td>No</td><td>3.367296</td><td>1</td></tr>\n",
       "\t<tr><th scope=row>Cephaloscyllium_cooki</th><td>30.0</td><td>O </td><td>No </td><td>Yes</td><td>No </td><td>No</td><td>No</td><td>No</td><td>3.401197</td><td>1</td></tr>\n",
       "\t<tr><th scope=row>Etmopterus_bullisi</th><td>30.0</td><td>YV</td><td>Yes</td><td>Yes</td><td>No </td><td>No</td><td>No</td><td>No</td><td>3.401197</td><td>1</td></tr>\n",
       "\t<tr><th scope=row>Etmopterus_fusus</th><td>30.0</td><td>YV</td><td>No </td><td>Yes</td><td>No </td><td>No</td><td>No</td><td>No</td><td>3.401197</td><td>1</td></tr>\n",
       "\t<tr><th scope=row>Etmopterus_hillianus</th><td>30.0</td><td>YV</td><td>Yes</td><td>Yes</td><td>No </td><td>No</td><td>No</td><td>No</td><td>3.401197</td><td>1</td></tr>\n",
       "\t<tr><th scope=row>Etmopterus_schultzi</th><td>30.0</td><td>YV</td><td>Yes</td><td>Yes</td><td>No </td><td>No</td><td>No</td><td>No</td><td>3.401197</td><td>1</td></tr>\n",
       "\t<tr><th scope=row>Galeus_schultzi</th><td>30.0</td><td>O </td><td>No </td><td>Yes</td><td>No </td><td>No</td><td>No</td><td>No</td><td>3.401197</td><td>1</td></tr>\n",
       "\t<tr><th scope=row>Etmopterus_splendidus</th><td>31.0</td><td>YV</td><td>No </td><td>Yes</td><td>No </td><td>No</td><td>No</td><td>No</td><td>3.433987</td><td>1</td></tr>\n",
       "\t<tr><th scope=row>Scyliorhinus_torrei</th><td>32.0</td><td>O </td><td>No </td><td>Yes</td><td>No </td><td>No</td><td>No</td><td>No</td><td>3.465736</td><td>1</td></tr>\n",
       "\t<tr><th scope=row>Etmopterus_gracilispinis</th><td>33.0</td><td>YV</td><td>Yes</td><td>Yes</td><td>No </td><td>No</td><td>No</td><td>No</td><td>3.496508</td><td>1</td></tr>\n",
       "\t<tr><th scope=row>Galeus_arae</th><td>33.0</td><td>O </td><td>Yes</td><td>Yes</td><td>No </td><td>No</td><td>No</td><td>No</td><td>3.496508</td><td>1</td></tr>\n",
       "\t<tr><th scope=row>Squatina_caillieti</th><td>33.0</td><td>YV</td><td>No </td><td>No </td><td>Yes</td><td>No</td><td>No</td><td>No</td><td>3.496508</td><td>2</td></tr>\n",
       "\t<tr><th scope=row>Cirrhoscyllium_expolitum</th><td>33.5</td><td>O </td><td>No </td><td>No </td><td>Yes</td><td>No</td><td>No</td><td>No</td><td>3.511545</td><td>2</td></tr>\n",
       "\t<tr><th scope=row>⋮</th><td>⋮</td><td>⋮</td><td>⋮</td><td>⋮</td><td>⋮</td><td>⋮</td><td>⋮</td><td>⋮</td><td>⋮</td><td>⋮</td></tr>\n",
       "\t<tr><th scope=row>Stegostoma_fasciatum</th><td> 354</td><td>O </td><td>No </td><td>No </td><td>No </td><td>Yes</td><td>Yes</td><td>No </td><td>5.869297</td><td>3</td></tr>\n",
       "\t<tr><th scope=row>Lamna_nasus</th><td> 365</td><td>Oo</td><td>No </td><td>No </td><td>No </td><td>No </td><td>Yes</td><td>Yes</td><td>5.899897</td><td>5</td></tr>\n",
       "\t<tr><th scope=row>Carcharhinus_leucas</th><td> 366</td><td>PV</td><td>No </td><td>No </td><td>No </td><td>Yes</td><td>Yes</td><td>No </td><td>5.902633</td><td>4</td></tr>\n",
       "\t<tr><th scope=row>Negaprion_brevirostris</th><td> 368</td><td>PV</td><td>No </td><td>No </td><td>Yes</td><td>Yes</td><td>Yes</td><td>No </td><td>5.908083</td><td>4</td></tr>\n",
       "\t<tr><th scope=row>Carcharhinus_galapagensis</th><td> 370</td><td>PV</td><td>No </td><td>No </td><td>Yes</td><td>Yes</td><td>Yes</td><td>No </td><td>5.913503</td><td>4</td></tr>\n",
       "\t<tr><th scope=row>Carcharhinus_falciformis</th><td> 371</td><td>PV</td><td>No </td><td>No </td><td>Yes</td><td>Yes</td><td>Yes</td><td>Yes</td><td>5.916202</td><td>5</td></tr>\n",
       "\t<tr><th scope=row>Prionace_glauca</th><td> 384</td><td>PV</td><td>No </td><td>No </td><td>Yes</td><td>No </td><td>Yes</td><td>Yes</td><td>5.950643</td><td>5</td></tr>\n",
       "\t<tr><th scope=row>Echinorhinus_brucus</th><td> 396</td><td>YV</td><td>Yes</td><td>Yes</td><td>Yes</td><td>No </td><td>No </td><td>No </td><td>5.981414</td><td>2</td></tr>\n",
       "\t<tr><th scope=row>Sphyrna_zygaena</th><td> 400</td><td>PV</td><td>No </td><td>No </td><td>Yes</td><td>No </td><td>Yes</td><td>Yes</td><td>5.991465</td><td>5</td></tr>\n",
       "\t<tr><th scope=row>Carcharhinus_obscurus</th><td> 420</td><td>PV</td><td>No </td><td>Yes</td><td>Yes</td><td>No </td><td>Yes</td><td>No </td><td>6.040255</td><td>2</td></tr>\n",
       "\t<tr><th scope=row>Odontaspis_noronhai</th><td> 427</td><td>Oo</td><td>No </td><td>Yes</td><td>Yes</td><td>No </td><td>No </td><td>Yes</td><td>6.056784</td><td>5</td></tr>\n",
       "\t<tr><th scope=row>Alopias_pelagicus</th><td> 428</td><td>Oo</td><td>No </td><td>No </td><td>Yes</td><td>No </td><td>Yes</td><td>Yes</td><td>6.059123</td><td>5</td></tr>\n",
       "\t<tr><th scope=row>Isurus_paucus</th><td> 430</td><td>Oo</td><td>No </td><td>No </td><td>Yes</td><td>No </td><td>Yes</td><td>Yes</td><td>6.063785</td><td>5</td></tr>\n",
       "\t<tr><th scope=row>Sphyrna_lewini</th><td> 430</td><td>PV</td><td>No </td><td>No </td><td>Yes</td><td>No </td><td>Yes</td><td>Yes</td><td>6.063785</td><td>5</td></tr>\n",
       "\t<tr><th scope=row>Isurus_oxyrinchus</th><td> 445</td><td>Oo</td><td>No </td><td>No </td><td>Yes</td><td>No </td><td>Yes</td><td>Yes</td><td>6.098074</td><td>5</td></tr>\n",
       "\t<tr><th scope=row>Echinorhinus_cookei</th><td> 450</td><td>YV</td><td>Yes</td><td>Yes</td><td>Yes</td><td>No </td><td>No </td><td>No </td><td>6.109248</td><td>2</td></tr>\n",
       "\t<tr><th scope=row>Odontaspis_ferox</th><td> 450</td><td>Oo</td><td>Yes</td><td>Yes</td><td>Yes</td><td>No </td><td>No </td><td>No </td><td>6.109248</td><td>2</td></tr>\n",
       "\t<tr><th scope=row>Alopias_superciliosus</th><td> 484</td><td>Oo</td><td>No </td><td>No </td><td>Yes</td><td>No </td><td>Yes</td><td>Yes</td><td>6.182085</td><td>5</td></tr>\n",
       "\t<tr><th scope=row>Hexanchus_griseus</th><td> 550</td><td>YV</td><td>Yes</td><td>Yes</td><td>Yes</td><td>No </td><td>No </td><td>No </td><td>6.309918</td><td>2</td></tr>\n",
       "\t<tr><th scope=row>Alopias_vulpinus</th><td> 575</td><td>Oo</td><td>No </td><td>No </td><td>Yes</td><td>No </td><td>Yes</td><td>Yes</td><td>6.354370</td><td>5</td></tr>\n",
       "\t<tr><th scope=row>Somniosus_antarcticus</th><td> 600</td><td>YV</td><td>Yes</td><td>Yes</td><td>Yes</td><td>No </td><td>No </td><td>No </td><td>6.396930</td><td>2</td></tr>\n",
       "\t<tr><th scope=row>Sphyrna_mokarran</th><td> 610</td><td>PV</td><td>No </td><td>No </td><td>Yes</td><td>Yes</td><td>Yes</td><td>Yes</td><td>6.413459</td><td>5</td></tr>\n",
       "\t<tr><th scope=row>Mitsukurina_owstoni</th><td> 620</td><td>Oo</td><td>Yes</td><td>Yes</td><td>Yes</td><td>No </td><td>No </td><td>No </td><td>6.429719</td><td>2</td></tr>\n",
       "\t<tr><th scope=row>Carcharodon_carcharias</th><td> 640</td><td>Oo</td><td>No </td><td>No </td><td>Yes</td><td>Yes</td><td>Yes</td><td>Yes</td><td>6.461468</td><td>5</td></tr>\n",
       "\t<tr><th scope=row>Somniosus_pacificus</th><td> 700</td><td>YV</td><td>Yes</td><td>Yes</td><td>Yes</td><td>No </td><td>No </td><td>No </td><td>6.551080</td><td>2</td></tr>\n",
       "\t<tr><th scope=row>Galeocerdo_cuvier</th><td> 740</td><td>YV</td><td>No </td><td>No </td><td>Yes</td><td>Yes</td><td>Yes</td><td>Yes</td><td>6.606650</td><td>5</td></tr>\n",
       "\t<tr><th scope=row>Somniosus_microcephalus</th><td> 756</td><td>YV</td><td>Yes</td><td>Yes</td><td>Yes</td><td>No </td><td>No </td><td>No </td><td>6.628041</td><td>2</td></tr>\n",
       "\t<tr><th scope=row>Megachasma_pelagios</th><td> 820</td><td>Oo</td><td>No </td><td>Yes</td><td>Yes</td><td>No </td><td>Yes</td><td>Yes</td><td>6.709304</td><td>5</td></tr>\n",
       "\t<tr><th scope=row>Cetorhinus_maximus</th><td>1239</td><td>Oo</td><td>No </td><td>Yes</td><td>Yes</td><td>No </td><td>Yes</td><td>Yes</td><td>7.122060</td><td>5</td></tr>\n",
       "\t<tr><th scope=row>Rhincodon_typus</th><td>1800</td><td>YV</td><td>No </td><td>No </td><td>Yes</td><td>No </td><td>Yes</td><td>Yes</td><td>7.495542</td><td>5</td></tr>\n",
       "</tbody>\n",
       "</table>\n"
      ],
      "text/latex": [
       "A data.frame: 528 × 10\n",
       "\\begin{tabular}{r|llllllllll}\n",
       "  & Consensus & Reproduction & Lower.Slope.Deep & Upper.Slope & Shelf & Reef & Coastal & Oceano.Pelagic & Your\\_variable & clust.num\\\\\n",
       "  & <dbl> & <chr> & <chr> & <chr> & <chr> & <chr> & <chr> & <chr> & <dbl> & <int>\\\\\n",
       "\\hline\n",
       "\tMollisquama\\_mississippiensis & 14.0 & YV & Yes & No  & No  & No & No & No & 2.639057 & 1\\\\\n",
       "\tParmaturus\\_campechiensis & 16.0 & O  & Yes & No  & No  & No & No & No & 2.772589 & 1\\\\\n",
       "\tApristurus\\_sibogae & 21.0 & O  & Yes & No  & No  & No & No & No & 3.044522 & 1\\\\\n",
       "\tEtmopterus\\_carteri & 21.0 & YV & No  & Yes & No  & No & No & No & 3.044522 & 1\\\\\n",
       "\tEtmopterus\\_perryi & 21.0 & YV & No  & Yes & No  & No & No & No & 3.044522 & 1\\\\\n",
       "\tEtmopterus\\_marshae & 23.0 & YV & No  & Yes & No  & No & No & No & 3.135494 & 1\\\\\n",
       "\tEtmopterus\\_polli & 24.0 & YV & Yes & Yes & No  & No & No & No & 3.178054 & 1\\\\\n",
       "\tSqualiolus\\_aliae & 24.0 & YV & Yes & No  & No  & No & No & No & 3.178054 & 1\\\\\n",
       "\tApristurus\\_investigatoris & 26.0 & O  & Yes & No  & No  & No & No & No & 3.258097 & 1\\\\\n",
       "\tEridacnis\\_radcliffei & 26.0 & YV & No  & Yes & No  & No & No & No & 3.258097 & 1\\\\\n",
       "\tEtmopterus\\_virens & 26.0 & YV & Yes & Yes & No  & No & No & No & 3.258097 & 1\\\\\n",
       "\tScymnodalatias\\_oligodon & 26.0 & YV & Yes & No  & No  & No & No & No & 3.258097 & 1\\\\\n",
       "\tEtmopterus\\_sentosus & 27.0 & YV & No  & Yes & No  & No & No & No & 3.295837 & 1\\\\\n",
       "\tEuprotomicrus\\_bispinatus & 27.0 & YV & Yes & No  & No  & No & No & No & 3.295837 & 1\\\\\n",
       "\tHolohalaelurus\\_grennian & 27.0 & O  & No  & Yes & No  & No & No & No & 3.295837 & 1\\\\\n",
       "\tEtmopterus\\_samadiae & 28.0 & YV & Yes & Yes & No  & No & No & No & 3.332205 & 1\\\\\n",
       "\tSqualiolus\\_laticaudus & 28.0 & YV & Yes & No  & No  & No & No & No & 3.332205 & 1\\\\\n",
       "\tEtmopterus\\_decacuspidatus & 29.0 & YV & Yes & No  & No  & No & No & No & 3.367296 & 1\\\\\n",
       "\tCephaloscyllium\\_cooki & 30.0 & O  & No  & Yes & No  & No & No & No & 3.401197 & 1\\\\\n",
       "\tEtmopterus\\_bullisi & 30.0 & YV & Yes & Yes & No  & No & No & No & 3.401197 & 1\\\\\n",
       "\tEtmopterus\\_fusus & 30.0 & YV & No  & Yes & No  & No & No & No & 3.401197 & 1\\\\\n",
       "\tEtmopterus\\_hillianus & 30.0 & YV & Yes & Yes & No  & No & No & No & 3.401197 & 1\\\\\n",
       "\tEtmopterus\\_schultzi & 30.0 & YV & Yes & Yes & No  & No & No & No & 3.401197 & 1\\\\\n",
       "\tGaleus\\_schultzi & 30.0 & O  & No  & Yes & No  & No & No & No & 3.401197 & 1\\\\\n",
       "\tEtmopterus\\_splendidus & 31.0 & YV & No  & Yes & No  & No & No & No & 3.433987 & 1\\\\\n",
       "\tScyliorhinus\\_torrei & 32.0 & O  & No  & Yes & No  & No & No & No & 3.465736 & 1\\\\\n",
       "\tEtmopterus\\_gracilispinis & 33.0 & YV & Yes & Yes & No  & No & No & No & 3.496508 & 1\\\\\n",
       "\tGaleus\\_arae & 33.0 & O  & Yes & Yes & No  & No & No & No & 3.496508 & 1\\\\\n",
       "\tSquatina\\_caillieti & 33.0 & YV & No  & No  & Yes & No & No & No & 3.496508 & 2\\\\\n",
       "\tCirrhoscyllium\\_expolitum & 33.5 & O  & No  & No  & Yes & No & No & No & 3.511545 & 2\\\\\n",
       "\t⋮ & ⋮ & ⋮ & ⋮ & ⋮ & ⋮ & ⋮ & ⋮ & ⋮ & ⋮ & ⋮\\\\\n",
       "\tStegostoma\\_fasciatum &  354 & O  & No  & No  & No  & Yes & Yes & No  & 5.869297 & 3\\\\\n",
       "\tLamna\\_nasus &  365 & Oo & No  & No  & No  & No  & Yes & Yes & 5.899897 & 5\\\\\n",
       "\tCarcharhinus\\_leucas &  366 & PV & No  & No  & No  & Yes & Yes & No  & 5.902633 & 4\\\\\n",
       "\tNegaprion\\_brevirostris &  368 & PV & No  & No  & Yes & Yes & Yes & No  & 5.908083 & 4\\\\\n",
       "\tCarcharhinus\\_galapagensis &  370 & PV & No  & No  & Yes & Yes & Yes & No  & 5.913503 & 4\\\\\n",
       "\tCarcharhinus\\_falciformis &  371 & PV & No  & No  & Yes & Yes & Yes & Yes & 5.916202 & 5\\\\\n",
       "\tPrionace\\_glauca &  384 & PV & No  & No  & Yes & No  & Yes & Yes & 5.950643 & 5\\\\\n",
       "\tEchinorhinus\\_brucus &  396 & YV & Yes & Yes & Yes & No  & No  & No  & 5.981414 & 2\\\\\n",
       "\tSphyrna\\_zygaena &  400 & PV & No  & No  & Yes & No  & Yes & Yes & 5.991465 & 5\\\\\n",
       "\tCarcharhinus\\_obscurus &  420 & PV & No  & Yes & Yes & No  & Yes & No  & 6.040255 & 2\\\\\n",
       "\tOdontaspis\\_noronhai &  427 & Oo & No  & Yes & Yes & No  & No  & Yes & 6.056784 & 5\\\\\n",
       "\tAlopias\\_pelagicus &  428 & Oo & No  & No  & Yes & No  & Yes & Yes & 6.059123 & 5\\\\\n",
       "\tIsurus\\_paucus &  430 & Oo & No  & No  & Yes & No  & Yes & Yes & 6.063785 & 5\\\\\n",
       "\tSphyrna\\_lewini &  430 & PV & No  & No  & Yes & No  & Yes & Yes & 6.063785 & 5\\\\\n",
       "\tIsurus\\_oxyrinchus &  445 & Oo & No  & No  & Yes & No  & Yes & Yes & 6.098074 & 5\\\\\n",
       "\tEchinorhinus\\_cookei &  450 & YV & Yes & Yes & Yes & No  & No  & No  & 6.109248 & 2\\\\\n",
       "\tOdontaspis\\_ferox &  450 & Oo & Yes & Yes & Yes & No  & No  & No  & 6.109248 & 2\\\\\n",
       "\tAlopias\\_superciliosus &  484 & Oo & No  & No  & Yes & No  & Yes & Yes & 6.182085 & 5\\\\\n",
       "\tHexanchus\\_griseus &  550 & YV & Yes & Yes & Yes & No  & No  & No  & 6.309918 & 2\\\\\n",
       "\tAlopias\\_vulpinus &  575 & Oo & No  & No  & Yes & No  & Yes & Yes & 6.354370 & 5\\\\\n",
       "\tSomniosus\\_antarcticus &  600 & YV & Yes & Yes & Yes & No  & No  & No  & 6.396930 & 2\\\\\n",
       "\tSphyrna\\_mokarran &  610 & PV & No  & No  & Yes & Yes & Yes & Yes & 6.413459 & 5\\\\\n",
       "\tMitsukurina\\_owstoni &  620 & Oo & Yes & Yes & Yes & No  & No  & No  & 6.429719 & 2\\\\\n",
       "\tCarcharodon\\_carcharias &  640 & Oo & No  & No  & Yes & Yes & Yes & Yes & 6.461468 & 5\\\\\n",
       "\tSomniosus\\_pacificus &  700 & YV & Yes & Yes & Yes & No  & No  & No  & 6.551080 & 2\\\\\n",
       "\tGaleocerdo\\_cuvier &  740 & YV & No  & No  & Yes & Yes & Yes & Yes & 6.606650 & 5\\\\\n",
       "\tSomniosus\\_microcephalus &  756 & YV & Yes & Yes & Yes & No  & No  & No  & 6.628041 & 2\\\\\n",
       "\tMegachasma\\_pelagios &  820 & Oo & No  & Yes & Yes & No  & Yes & Yes & 6.709304 & 5\\\\\n",
       "\tCetorhinus\\_maximus & 1239 & Oo & No  & Yes & Yes & No  & Yes & Yes & 7.122060 & 5\\\\\n",
       "\tRhincodon\\_typus & 1800 & YV & No  & No  & Yes & No  & Yes & Yes & 7.495542 & 5\\\\\n",
       "\\end{tabular}\n"
      ],
      "text/markdown": [
       "\n",
       "A data.frame: 528 × 10\n",
       "\n",
       "| <!--/--> | Consensus &lt;dbl&gt; | Reproduction &lt;chr&gt; | Lower.Slope.Deep &lt;chr&gt; | Upper.Slope &lt;chr&gt; | Shelf &lt;chr&gt; | Reef &lt;chr&gt; | Coastal &lt;chr&gt; | Oceano.Pelagic &lt;chr&gt; | Your_variable &lt;dbl&gt; | clust.num &lt;int&gt; |\n",
       "|---|---|---|---|---|---|---|---|---|---|---|\n",
       "| Mollisquama_mississippiensis | 14.0 | YV | Yes | No  | No  | No | No | No | 2.639057 | 1 |\n",
       "| Parmaturus_campechiensis | 16.0 | O  | Yes | No  | No  | No | No | No | 2.772589 | 1 |\n",
       "| Apristurus_sibogae | 21.0 | O  | Yes | No  | No  | No | No | No | 3.044522 | 1 |\n",
       "| Etmopterus_carteri | 21.0 | YV | No  | Yes | No  | No | No | No | 3.044522 | 1 |\n",
       "| Etmopterus_perryi | 21.0 | YV | No  | Yes | No  | No | No | No | 3.044522 | 1 |\n",
       "| Etmopterus_marshae | 23.0 | YV | No  | Yes | No  | No | No | No | 3.135494 | 1 |\n",
       "| Etmopterus_polli | 24.0 | YV | Yes | Yes | No  | No | No | No | 3.178054 | 1 |\n",
       "| Squaliolus_aliae | 24.0 | YV | Yes | No  | No  | No | No | No | 3.178054 | 1 |\n",
       "| Apristurus_investigatoris | 26.0 | O  | Yes | No  | No  | No | No | No | 3.258097 | 1 |\n",
       "| Eridacnis_radcliffei | 26.0 | YV | No  | Yes | No  | No | No | No | 3.258097 | 1 |\n",
       "| Etmopterus_virens | 26.0 | YV | Yes | Yes | No  | No | No | No | 3.258097 | 1 |\n",
       "| Scymnodalatias_oligodon | 26.0 | YV | Yes | No  | No  | No | No | No | 3.258097 | 1 |\n",
       "| Etmopterus_sentosus | 27.0 | YV | No  | Yes | No  | No | No | No | 3.295837 | 1 |\n",
       "| Euprotomicrus_bispinatus | 27.0 | YV | Yes | No  | No  | No | No | No | 3.295837 | 1 |\n",
       "| Holohalaelurus_grennian | 27.0 | O  | No  | Yes | No  | No | No | No | 3.295837 | 1 |\n",
       "| Etmopterus_samadiae | 28.0 | YV | Yes | Yes | No  | No | No | No | 3.332205 | 1 |\n",
       "| Squaliolus_laticaudus | 28.0 | YV | Yes | No  | No  | No | No | No | 3.332205 | 1 |\n",
       "| Etmopterus_decacuspidatus | 29.0 | YV | Yes | No  | No  | No | No | No | 3.367296 | 1 |\n",
       "| Cephaloscyllium_cooki | 30.0 | O  | No  | Yes | No  | No | No | No | 3.401197 | 1 |\n",
       "| Etmopterus_bullisi | 30.0 | YV | Yes | Yes | No  | No | No | No | 3.401197 | 1 |\n",
       "| Etmopterus_fusus | 30.0 | YV | No  | Yes | No  | No | No | No | 3.401197 | 1 |\n",
       "| Etmopterus_hillianus | 30.0 | YV | Yes | Yes | No  | No | No | No | 3.401197 | 1 |\n",
       "| Etmopterus_schultzi | 30.0 | YV | Yes | Yes | No  | No | No | No | 3.401197 | 1 |\n",
       "| Galeus_schultzi | 30.0 | O  | No  | Yes | No  | No | No | No | 3.401197 | 1 |\n",
       "| Etmopterus_splendidus | 31.0 | YV | No  | Yes | No  | No | No | No | 3.433987 | 1 |\n",
       "| Scyliorhinus_torrei | 32.0 | O  | No  | Yes | No  | No | No | No | 3.465736 | 1 |\n",
       "| Etmopterus_gracilispinis | 33.0 | YV | Yes | Yes | No  | No | No | No | 3.496508 | 1 |\n",
       "| Galeus_arae | 33.0 | O  | Yes | Yes | No  | No | No | No | 3.496508 | 1 |\n",
       "| Squatina_caillieti | 33.0 | YV | No  | No  | Yes | No | No | No | 3.496508 | 2 |\n",
       "| Cirrhoscyllium_expolitum | 33.5 | O  | No  | No  | Yes | No | No | No | 3.511545 | 2 |\n",
       "| ⋮ | ⋮ | ⋮ | ⋮ | ⋮ | ⋮ | ⋮ | ⋮ | ⋮ | ⋮ | ⋮ |\n",
       "| Stegostoma_fasciatum |  354 | O  | No  | No  | No  | Yes | Yes | No  | 5.869297 | 3 |\n",
       "| Lamna_nasus |  365 | Oo | No  | No  | No  | No  | Yes | Yes | 5.899897 | 5 |\n",
       "| Carcharhinus_leucas |  366 | PV | No  | No  | No  | Yes | Yes | No  | 5.902633 | 4 |\n",
       "| Negaprion_brevirostris |  368 | PV | No  | No  | Yes | Yes | Yes | No  | 5.908083 | 4 |\n",
       "| Carcharhinus_galapagensis |  370 | PV | No  | No  | Yes | Yes | Yes | No  | 5.913503 | 4 |\n",
       "| Carcharhinus_falciformis |  371 | PV | No  | No  | Yes | Yes | Yes | Yes | 5.916202 | 5 |\n",
       "| Prionace_glauca |  384 | PV | No  | No  | Yes | No  | Yes | Yes | 5.950643 | 5 |\n",
       "| Echinorhinus_brucus |  396 | YV | Yes | Yes | Yes | No  | No  | No  | 5.981414 | 2 |\n",
       "| Sphyrna_zygaena |  400 | PV | No  | No  | Yes | No  | Yes | Yes | 5.991465 | 5 |\n",
       "| Carcharhinus_obscurus |  420 | PV | No  | Yes | Yes | No  | Yes | No  | 6.040255 | 2 |\n",
       "| Odontaspis_noronhai |  427 | Oo | No  | Yes | Yes | No  | No  | Yes | 6.056784 | 5 |\n",
       "| Alopias_pelagicus |  428 | Oo | No  | No  | Yes | No  | Yes | Yes | 6.059123 | 5 |\n",
       "| Isurus_paucus |  430 | Oo | No  | No  | Yes | No  | Yes | Yes | 6.063785 | 5 |\n",
       "| Sphyrna_lewini |  430 | PV | No  | No  | Yes | No  | Yes | Yes | 6.063785 | 5 |\n",
       "| Isurus_oxyrinchus |  445 | Oo | No  | No  | Yes | No  | Yes | Yes | 6.098074 | 5 |\n",
       "| Echinorhinus_cookei |  450 | YV | Yes | Yes | Yes | No  | No  | No  | 6.109248 | 2 |\n",
       "| Odontaspis_ferox |  450 | Oo | Yes | Yes | Yes | No  | No  | No  | 6.109248 | 2 |\n",
       "| Alopias_superciliosus |  484 | Oo | No  | No  | Yes | No  | Yes | Yes | 6.182085 | 5 |\n",
       "| Hexanchus_griseus |  550 | YV | Yes | Yes | Yes | No  | No  | No  | 6.309918 | 2 |\n",
       "| Alopias_vulpinus |  575 | Oo | No  | No  | Yes | No  | Yes | Yes | 6.354370 | 5 |\n",
       "| Somniosus_antarcticus |  600 | YV | Yes | Yes | Yes | No  | No  | No  | 6.396930 | 2 |\n",
       "| Sphyrna_mokarran |  610 | PV | No  | No  | Yes | Yes | Yes | Yes | 6.413459 | 5 |\n",
       "| Mitsukurina_owstoni |  620 | Oo | Yes | Yes | Yes | No  | No  | No  | 6.429719 | 2 |\n",
       "| Carcharodon_carcharias |  640 | Oo | No  | No  | Yes | Yes | Yes | Yes | 6.461468 | 5 |\n",
       "| Somniosus_pacificus |  700 | YV | Yes | Yes | Yes | No  | No  | No  | 6.551080 | 2 |\n",
       "| Galeocerdo_cuvier |  740 | YV | No  | No  | Yes | Yes | Yes | Yes | 6.606650 | 5 |\n",
       "| Somniosus_microcephalus |  756 | YV | Yes | Yes | Yes | No  | No  | No  | 6.628041 | 2 |\n",
       "| Megachasma_pelagios |  820 | Oo | No  | Yes | Yes | No  | Yes | Yes | 6.709304 | 5 |\n",
       "| Cetorhinus_maximus | 1239 | Oo | No  | Yes | Yes | No  | Yes | Yes | 7.122060 | 5 |\n",
       "| Rhincodon_typus | 1800 | YV | No  | No  | Yes | No  | Yes | Yes | 7.495542 | 5 |\n",
       "\n"
      ],
      "text/plain": [
       "                             Consensus Reproduction Lower.Slope.Deep\n",
       "Mollisquama_mississippiensis 14.0      YV           Yes             \n",
       "Parmaturus_campechiensis     16.0      O            Yes             \n",
       "Apristurus_sibogae           21.0      O            Yes             \n",
       "Etmopterus_carteri           21.0      YV           No              \n",
       "Etmopterus_perryi            21.0      YV           No              \n",
       "Etmopterus_marshae           23.0      YV           No              \n",
       "Etmopterus_polli             24.0      YV           Yes             \n",
       "Squaliolus_aliae             24.0      YV           Yes             \n",
       "Apristurus_investigatoris    26.0      O            Yes             \n",
       "Eridacnis_radcliffei         26.0      YV           No              \n",
       "Etmopterus_virens            26.0      YV           Yes             \n",
       "Scymnodalatias_oligodon      26.0      YV           Yes             \n",
       "Etmopterus_sentosus          27.0      YV           No              \n",
       "Euprotomicrus_bispinatus     27.0      YV           Yes             \n",
       "Holohalaelurus_grennian      27.0      O            No              \n",
       "Etmopterus_samadiae          28.0      YV           Yes             \n",
       "Squaliolus_laticaudus        28.0      YV           Yes             \n",
       "Etmopterus_decacuspidatus    29.0      YV           Yes             \n",
       "Cephaloscyllium_cooki        30.0      O            No              \n",
       "Etmopterus_bullisi           30.0      YV           Yes             \n",
       "Etmopterus_fusus             30.0      YV           No              \n",
       "Etmopterus_hillianus         30.0      YV           Yes             \n",
       "Etmopterus_schultzi          30.0      YV           Yes             \n",
       "Galeus_schultzi              30.0      O            No              \n",
       "Etmopterus_splendidus        31.0      YV           No              \n",
       "Scyliorhinus_torrei          32.0      O            No              \n",
       "Etmopterus_gracilispinis     33.0      YV           Yes             \n",
       "Galeus_arae                  33.0      O            Yes             \n",
       "Squatina_caillieti           33.0      YV           No              \n",
       "Cirrhoscyllium_expolitum     33.5      O            No              \n",
       "⋮                            ⋮         ⋮            ⋮               \n",
       "Stegostoma_fasciatum          354      O            No              \n",
       "Lamna_nasus                   365      Oo           No              \n",
       "Carcharhinus_leucas           366      PV           No              \n",
       "Negaprion_brevirostris        368      PV           No              \n",
       "Carcharhinus_galapagensis     370      PV           No              \n",
       "Carcharhinus_falciformis      371      PV           No              \n",
       "Prionace_glauca               384      PV           No              \n",
       "Echinorhinus_brucus           396      YV           Yes             \n",
       "Sphyrna_zygaena               400      PV           No              \n",
       "Carcharhinus_obscurus         420      PV           No              \n",
       "Odontaspis_noronhai           427      Oo           No              \n",
       "Alopias_pelagicus             428      Oo           No              \n",
       "Isurus_paucus                 430      Oo           No              \n",
       "Sphyrna_lewini                430      PV           No              \n",
       "Isurus_oxyrinchus             445      Oo           No              \n",
       "Echinorhinus_cookei           450      YV           Yes             \n",
       "Odontaspis_ferox              450      Oo           Yes             \n",
       "Alopias_superciliosus         484      Oo           No              \n",
       "Hexanchus_griseus             550      YV           Yes             \n",
       "Alopias_vulpinus              575      Oo           No              \n",
       "Somniosus_antarcticus         600      YV           Yes             \n",
       "Sphyrna_mokarran              610      PV           No              \n",
       "Mitsukurina_owstoni           620      Oo           Yes             \n",
       "Carcharodon_carcharias        640      Oo           No              \n",
       "Somniosus_pacificus           700      YV           Yes             \n",
       "Galeocerdo_cuvier             740      YV           No              \n",
       "Somniosus_microcephalus       756      YV           Yes             \n",
       "Megachasma_pelagios           820      Oo           No              \n",
       "Cetorhinus_maximus           1239      Oo           No              \n",
       "Rhincodon_typus              1800      YV           No              \n",
       "                             Upper.Slope Shelf Reef Coastal Oceano.Pelagic\n",
       "Mollisquama_mississippiensis No          No    No   No      No            \n",
       "Parmaturus_campechiensis     No          No    No   No      No            \n",
       "Apristurus_sibogae           No          No    No   No      No            \n",
       "Etmopterus_carteri           Yes         No    No   No      No            \n",
       "Etmopterus_perryi            Yes         No    No   No      No            \n",
       "Etmopterus_marshae           Yes         No    No   No      No            \n",
       "Etmopterus_polli             Yes         No    No   No      No            \n",
       "Squaliolus_aliae             No          No    No   No      No            \n",
       "Apristurus_investigatoris    No          No    No   No      No            \n",
       "Eridacnis_radcliffei         Yes         No    No   No      No            \n",
       "Etmopterus_virens            Yes         No    No   No      No            \n",
       "Scymnodalatias_oligodon      No          No    No   No      No            \n",
       "Etmopterus_sentosus          Yes         No    No   No      No            \n",
       "Euprotomicrus_bispinatus     No          No    No   No      No            \n",
       "Holohalaelurus_grennian      Yes         No    No   No      No            \n",
       "Etmopterus_samadiae          Yes         No    No   No      No            \n",
       "Squaliolus_laticaudus        No          No    No   No      No            \n",
       "Etmopterus_decacuspidatus    No          No    No   No      No            \n",
       "Cephaloscyllium_cooki        Yes         No    No   No      No            \n",
       "Etmopterus_bullisi           Yes         No    No   No      No            \n",
       "Etmopterus_fusus             Yes         No    No   No      No            \n",
       "Etmopterus_hillianus         Yes         No    No   No      No            \n",
       "Etmopterus_schultzi          Yes         No    No   No      No            \n",
       "Galeus_schultzi              Yes         No    No   No      No            \n",
       "Etmopterus_splendidus        Yes         No    No   No      No            \n",
       "Scyliorhinus_torrei          Yes         No    No   No      No            \n",
       "Etmopterus_gracilispinis     Yes         No    No   No      No            \n",
       "Galeus_arae                  Yes         No    No   No      No            \n",
       "Squatina_caillieti           No          Yes   No   No      No            \n",
       "Cirrhoscyllium_expolitum     No          Yes   No   No      No            \n",
       "⋮                            ⋮           ⋮     ⋮    ⋮       ⋮             \n",
       "Stegostoma_fasciatum         No          No    Yes  Yes     No            \n",
       "Lamna_nasus                  No          No    No   Yes     Yes           \n",
       "Carcharhinus_leucas          No          No    Yes  Yes     No            \n",
       "Negaprion_brevirostris       No          Yes   Yes  Yes     No            \n",
       "Carcharhinus_galapagensis    No          Yes   Yes  Yes     No            \n",
       "Carcharhinus_falciformis     No          Yes   Yes  Yes     Yes           \n",
       "Prionace_glauca              No          Yes   No   Yes     Yes           \n",
       "Echinorhinus_brucus          Yes         Yes   No   No      No            \n",
       "Sphyrna_zygaena              No          Yes   No   Yes     Yes           \n",
       "Carcharhinus_obscurus        Yes         Yes   No   Yes     No            \n",
       "Odontaspis_noronhai          Yes         Yes   No   No      Yes           \n",
       "Alopias_pelagicus            No          Yes   No   Yes     Yes           \n",
       "Isurus_paucus                No          Yes   No   Yes     Yes           \n",
       "Sphyrna_lewini               No          Yes   No   Yes     Yes           \n",
       "Isurus_oxyrinchus            No          Yes   No   Yes     Yes           \n",
       "Echinorhinus_cookei          Yes         Yes   No   No      No            \n",
       "Odontaspis_ferox             Yes         Yes   No   No      No            \n",
       "Alopias_superciliosus        No          Yes   No   Yes     Yes           \n",
       "Hexanchus_griseus            Yes         Yes   No   No      No            \n",
       "Alopias_vulpinus             No          Yes   No   Yes     Yes           \n",
       "Somniosus_antarcticus        Yes         Yes   No   No      No            \n",
       "Sphyrna_mokarran             No          Yes   Yes  Yes     Yes           \n",
       "Mitsukurina_owstoni          Yes         Yes   No   No      No            \n",
       "Carcharodon_carcharias       No          Yes   Yes  Yes     Yes           \n",
       "Somniosus_pacificus          Yes         Yes   No   No      No            \n",
       "Galeocerdo_cuvier            No          Yes   Yes  Yes     Yes           \n",
       "Somniosus_microcephalus      Yes         Yes   No   No      No            \n",
       "Megachasma_pelagios          Yes         Yes   No   Yes     Yes           \n",
       "Cetorhinus_maximus           Yes         Yes   No   Yes     Yes           \n",
       "Rhincodon_typus              No          Yes   No   Yes     Yes           \n",
       "                             Your_variable clust.num\n",
       "Mollisquama_mississippiensis 2.639057      1        \n",
       "Parmaturus_campechiensis     2.772589      1        \n",
       "Apristurus_sibogae           3.044522      1        \n",
       "Etmopterus_carteri           3.044522      1        \n",
       "Etmopterus_perryi            3.044522      1        \n",
       "Etmopterus_marshae           3.135494      1        \n",
       "Etmopterus_polli             3.178054      1        \n",
       "Squaliolus_aliae             3.178054      1        \n",
       "Apristurus_investigatoris    3.258097      1        \n",
       "Eridacnis_radcliffei         3.258097      1        \n",
       "Etmopterus_virens            3.258097      1        \n",
       "Scymnodalatias_oligodon      3.258097      1        \n",
       "Etmopterus_sentosus          3.295837      1        \n",
       "Euprotomicrus_bispinatus     3.295837      1        \n",
       "Holohalaelurus_grennian      3.295837      1        \n",
       "Etmopterus_samadiae          3.332205      1        \n",
       "Squaliolus_laticaudus        3.332205      1        \n",
       "Etmopterus_decacuspidatus    3.367296      1        \n",
       "Cephaloscyllium_cooki        3.401197      1        \n",
       "Etmopterus_bullisi           3.401197      1        \n",
       "Etmopterus_fusus             3.401197      1        \n",
       "Etmopterus_hillianus         3.401197      1        \n",
       "Etmopterus_schultzi          3.401197      1        \n",
       "Galeus_schultzi              3.401197      1        \n",
       "Etmopterus_splendidus        3.433987      1        \n",
       "Scyliorhinus_torrei          3.465736      1        \n",
       "Etmopterus_gracilispinis     3.496508      1        \n",
       "Galeus_arae                  3.496508      1        \n",
       "Squatina_caillieti           3.496508      2        \n",
       "Cirrhoscyllium_expolitum     3.511545      2        \n",
       "⋮                            ⋮             ⋮        \n",
       "Stegostoma_fasciatum         5.869297      3        \n",
       "Lamna_nasus                  5.899897      5        \n",
       "Carcharhinus_leucas          5.902633      4        \n",
       "Negaprion_brevirostris       5.908083      4        \n",
       "Carcharhinus_galapagensis    5.913503      4        \n",
       "Carcharhinus_falciformis     5.916202      5        \n",
       "Prionace_glauca              5.950643      5        \n",
       "Echinorhinus_brucus          5.981414      2        \n",
       "Sphyrna_zygaena              5.991465      5        \n",
       "Carcharhinus_obscurus        6.040255      2        \n",
       "Odontaspis_noronhai          6.056784      5        \n",
       "Alopias_pelagicus            6.059123      5        \n",
       "Isurus_paucus                6.063785      5        \n",
       "Sphyrna_lewini               6.063785      5        \n",
       "Isurus_oxyrinchus            6.098074      5        \n",
       "Echinorhinus_cookei          6.109248      2        \n",
       "Odontaspis_ferox             6.109248      2        \n",
       "Alopias_superciliosus        6.182085      5        \n",
       "Hexanchus_griseus            6.309918      2        \n",
       "Alopias_vulpinus             6.354370      5        \n",
       "Somniosus_antarcticus        6.396930      2        \n",
       "Sphyrna_mokarran             6.413459      5        \n",
       "Mitsukurina_owstoni          6.429719      2        \n",
       "Carcharodon_carcharias       6.461468      5        \n",
       "Somniosus_pacificus          6.551080      2        \n",
       "Galeocerdo_cuvier            6.606650      5        \n",
       "Somniosus_microcephalus      6.628041      2        \n",
       "Megachasma_pelagios          6.709304      5        \n",
       "Cetorhinus_maximus           7.122060      5        \n",
       "Rhincodon_typus              7.495542      5        "
      ]
     },
     "metadata": {},
     "output_type": "display_data"
    }
   ],
   "source": [
    "my_df"
   ]
  },
  {
   "cell_type": "code",
   "execution_count": 11,
   "metadata": {},
   "outputs": [],
   "source": [
    "states<-data.frame(my_df$Lower.Slope.Deep, my_df$Upper.Slope, my_df$Shelf, my_df$Reef, my_df$Coastal, my_df$Oceano.Pelagic)\n",
    "states[states == \"No\"] <- 0\n",
    "states[states == \"Yes\"] <- 1\n",
    "rownames(states)<-rownames(my_df)\n",
    "names(states)<-rownames(df)\n",
    "states2<-states[!rownames(states) %in% setdiff(rownames(states), phy$tip.label),]"
   ]
  },
  {
   "cell_type": "markdown",
   "metadata": {},
   "source": [
    "### Computing sampling fraction"
   ]
  },
  {
   "cell_type": "code",
   "execution_count": 12,
   "metadata": {},
   "outputs": [],
   "source": [
    "### Computing sampling fraction"
   ]
  },
  {
   "cell_type": "code",
   "execution_count": 13,
   "metadata": {},
   "outputs": [],
   "source": [
    "samp_frac<-c(length(states2[,1])/length(states[,1]))"
   ]
  },
  {
   "cell_type": "markdown",
   "metadata": {},
   "source": [
    "### Computing states percentages"
   ]
  },
  {
   "cell_type": "code",
   "execution_count": 14,
   "metadata": {},
   "outputs": [],
   "source": [
    "### Computing states percentages"
   ]
  },
  {
   "cell_type": "code",
   "execution_count": 15,
   "metadata": {},
   "outputs": [],
   "source": [
    "states2[,1]<-as.numeric(states2[,1])\n",
    "states2[,2]<-as.numeric(states2[,2])\n",
    "states2[,3]<-as.numeric(states2[,3])\n",
    "states2[,4]<-as.numeric(states2[,4])\n",
    "states2[,5]<-as.numeric(states2[,5])\n",
    "states2[,6]<-as.numeric(states2[,6])"
   ]
  },
  {
   "cell_type": "code",
   "execution_count": 16,
   "metadata": {},
   "outputs": [],
   "source": [
    "phy2.0<-drop.tip(phy, setdiff(phy$tip.label, (rownames(states))))"
   ]
  },
  {
   "cell_type": "code",
   "execution_count": 17,
   "metadata": {},
   "outputs": [],
   "source": [
    "colnames(states2)<-c(\"A\", \"B\", \"C\", \"D\", \"E\", \"F\")"
   ]
  },
  {
   "cell_type": "markdown",
   "metadata": {},
   "source": [
    "## II Running the analysis"
   ]
  },
  {
   "cell_type": "code",
   "execution_count": 18,
   "metadata": {},
   "outputs": [],
   "source": [
    "## II Running the analysis"
   ]
  },
  {
   "cell_type": "markdown",
   "metadata": {},
   "source": [
    "### Null model (no variation in any rates)"
   ]
  },
  {
   "cell_type": "code",
   "execution_count": 19,
   "metadata": {},
   "outputs": [],
   "source": [
    "### Null model (no variation in any rates)"
   ]
  },
  {
   "cell_type": "code",
   "execution_count": 20,
   "metadata": {},
   "outputs": [
    {
     "data": {
      "text/html": [
       "0.723484848484849"
      ],
      "text/latex": [
       "0.723484848484849"
      ],
      "text/markdown": [
       "0.723484848484849"
      ],
      "text/plain": [
       "[1] 0.7234848"
      ]
     },
     "metadata": {},
     "output_type": "display_data"
    }
   ],
   "source": [
    "samp_frac"
   ]
  },
  {
   "cell_type": "code",
   "execution_count": 21,
   "metadata": {
    "scrolled": true
   },
   "outputs": [
    {
     "data": {
      "text/html": [
       "<style>\n",
       ".list-inline {list-style: none; margin:0; padding: 0}\n",
       ".list-inline>li {display: inline-block}\n",
       ".list-inline>li:not(:last-child)::after {content: \"\\00b7\"; padding: 0 .5ex}\n",
       "</style>\n",
       "<ol class=list-inline><li>'lambda0'</li><li>'mu0'</li><li>'qA01.0'</li><li>'qA10.0'</li><li>'qB01.0'</li><li>'qB10.0'</li><li>'qC01.0'</li><li>'qC10.0'</li><li>'qD01.0'</li><li>'qD10.0'</li><li>'qE01.0'</li><li>'qE10.0'</li><li>'qF01.0'</li><li>'qF10.0'</li></ol>\n"
      ],
      "text/latex": [
       "\\begin{enumerate*}\n",
       "\\item 'lambda0'\n",
       "\\item 'mu0'\n",
       "\\item 'qA01.0'\n",
       "\\item 'qA10.0'\n",
       "\\item 'qB01.0'\n",
       "\\item 'qB10.0'\n",
       "\\item 'qC01.0'\n",
       "\\item 'qC10.0'\n",
       "\\item 'qD01.0'\n",
       "\\item 'qD10.0'\n",
       "\\item 'qE01.0'\n",
       "\\item 'qE10.0'\n",
       "\\item 'qF01.0'\n",
       "\\item 'qF10.0'\n",
       "\\end{enumerate*}\n"
      ],
      "text/markdown": [
       "1. 'lambda0'\n",
       "2. 'mu0'\n",
       "3. 'qA01.0'\n",
       "4. 'qA10.0'\n",
       "5. 'qB01.0'\n",
       "6. 'qB10.0'\n",
       "7. 'qC01.0'\n",
       "8. 'qC10.0'\n",
       "9. 'qD01.0'\n",
       "10. 'qD10.0'\n",
       "11. 'qE01.0'\n",
       "12. 'qE10.0'\n",
       "13. 'qF01.0'\n",
       "14. 'qF10.0'\n",
       "\n",
       "\n"
      ],
      "text/plain": [
       " [1] \"lambda0\" \"mu0\"     \"qA01.0\"  \"qA10.0\"  \"qB01.0\"  \"qB10.0\"  \"qC01.0\" \n",
       " [8] \"qC10.0\"  \"qD01.0\"  \"qD10.0\"  \"qE01.0\"  \"qE10.0\"  \"qF01.0\"  \"qF10.0\" "
      ]
     },
     "metadata": {},
     "output_type": "display_data"
    }
   ],
   "source": [
    "lik0 <- make.musse.multitrait(phy2.0, states2, sampling.f = samp_frac, depth = 0)\n",
    "argnames(lik0)\n",
    "p <- starting.point.musse.multitrait(phy2.0, lik0)\n",
    "fit0 <- find.mle(lik0, p)"
   ]
  },
  {
   "cell_type": "markdown",
   "metadata": {},
   "source": [
    "### Speciation 1 model (no combinaison)"
   ]
  },
  {
   "cell_type": "code",
   "execution_count": 22,
   "metadata": {},
   "outputs": [],
   "source": [
    "### Speciation 1 model (no combinaison)"
   ]
  },
  {
   "cell_type": "code",
   "execution_count": 23,
   "metadata": {
    "scrolled": true
   },
   "outputs": [
    {
     "data": {
      "text/html": [
       "<style>\n",
       ".list-inline {list-style: none; margin:0; padding: 0}\n",
       ".list-inline>li {display: inline-block}\n",
       ".list-inline>li:not(:last-child)::after {content: \"\\00b7\"; padding: 0 .5ex}\n",
       "</style>\n",
       "<ol class=list-inline><li>'lambda0'</li><li>'lambdaA'</li><li>'lambdaB'</li><li>'lambdaC'</li><li>'lambdaD'</li><li>'lambdaE'</li><li>'lambdaF'</li><li>'mu0'</li><li>'qA01.0'</li><li>'qA10.0'</li><li>'qB01.0'</li><li>'qB10.0'</li><li>'qC01.0'</li><li>'qC10.0'</li><li>'qD01.0'</li><li>'qD10.0'</li><li>'qE01.0'</li><li>'qE10.0'</li><li>'qF01.0'</li><li>'qF10.0'</li></ol>\n"
      ],
      "text/latex": [
       "\\begin{enumerate*}\n",
       "\\item 'lambda0'\n",
       "\\item 'lambdaA'\n",
       "\\item 'lambdaB'\n",
       "\\item 'lambdaC'\n",
       "\\item 'lambdaD'\n",
       "\\item 'lambdaE'\n",
       "\\item 'lambdaF'\n",
       "\\item 'mu0'\n",
       "\\item 'qA01.0'\n",
       "\\item 'qA10.0'\n",
       "\\item 'qB01.0'\n",
       "\\item 'qB10.0'\n",
       "\\item 'qC01.0'\n",
       "\\item 'qC10.0'\n",
       "\\item 'qD01.0'\n",
       "\\item 'qD10.0'\n",
       "\\item 'qE01.0'\n",
       "\\item 'qE10.0'\n",
       "\\item 'qF01.0'\n",
       "\\item 'qF10.0'\n",
       "\\end{enumerate*}\n"
      ],
      "text/markdown": [
       "1. 'lambda0'\n",
       "2. 'lambdaA'\n",
       "3. 'lambdaB'\n",
       "4. 'lambdaC'\n",
       "5. 'lambdaD'\n",
       "6. 'lambdaE'\n",
       "7. 'lambdaF'\n",
       "8. 'mu0'\n",
       "9. 'qA01.0'\n",
       "10. 'qA10.0'\n",
       "11. 'qB01.0'\n",
       "12. 'qB10.0'\n",
       "13. 'qC01.0'\n",
       "14. 'qC10.0'\n",
       "15. 'qD01.0'\n",
       "16. 'qD10.0'\n",
       "17. 'qE01.0'\n",
       "18. 'qE10.0'\n",
       "19. 'qF01.0'\n",
       "20. 'qF10.0'\n",
       "\n",
       "\n"
      ],
      "text/plain": [
       " [1] \"lambda0\" \"lambdaA\" \"lambdaB\" \"lambdaC\" \"lambdaD\" \"lambdaE\" \"lambdaF\"\n",
       " [8] \"mu0\"     \"qA01.0\"  \"qA10.0\"  \"qB01.0\"  \"qB10.0\"  \"qC01.0\"  \"qC10.0\" \n",
       "[15] \"qD01.0\"  \"qD10.0\"  \"qE01.0\"  \"qE10.0\"  \"qF01.0\"  \"qF10.0\" "
      ]
     },
     "metadata": {},
     "output_type": "display_data"
    }
   ],
   "source": [
    "lik_sp1 <- make.musse.multitrait(phy2.0, states2, sampling.f = samp_frac, depth = c(1, 0, 0))\n",
    "argnames(lik_sp1)\n",
    "p <- starting.point.musse.multitrait(phy2.0, lik_sp1)\n",
    "fit_sp1 <- find.mle(lik_sp1, p)"
   ]
  },
  {
   "cell_type": "markdown",
   "metadata": {},
   "source": [
    "### Speciation 2 model (combinaison of two traits allowed)"
   ]
  },
  {
   "cell_type": "code",
   "execution_count": 24,
   "metadata": {},
   "outputs": [],
   "source": [
    "### Speciation 2 model (combinaison of two traits allowed)"
   ]
  },
  {
   "cell_type": "code",
   "execution_count": 25,
   "metadata": {},
   "outputs": [
    {
     "data": {
      "text/html": [
       "<style>\n",
       ".list-inline {list-style: none; margin:0; padding: 0}\n",
       ".list-inline>li {display: inline-block}\n",
       ".list-inline>li:not(:last-child)::after {content: \"\\00b7\"; padding: 0 .5ex}\n",
       "</style>\n",
       "<ol class=list-inline><li>'lambda0'</li><li>'lambdaA'</li><li>'lambdaB'</li><li>'lambdaC'</li><li>'lambdaD'</li><li>'lambdaE'</li><li>'lambdaF'</li><li>'lambdaAB'</li><li>'lambdaAC'</li><li>'lambdaAD'</li><li>'lambdaAE'</li><li>'lambdaAF'</li><li>'lambdaBC'</li><li>'lambdaBD'</li><li>'lambdaBE'</li><li>'lambdaBF'</li><li>'lambdaCD'</li><li>'lambdaCE'</li><li>'lambdaCF'</li><li>'lambdaDE'</li><li>'lambdaDF'</li><li>'lambdaEF'</li><li>'mu0'</li><li>'qA01.0'</li><li>'qA10.0'</li><li>'qB01.0'</li><li>'qB10.0'</li><li>'qC01.0'</li><li>'qC10.0'</li><li>'qD01.0'</li><li>'qD10.0'</li><li>'qE01.0'</li><li>'qE10.0'</li><li>'qF01.0'</li><li>'qF10.0'</li></ol>\n"
      ],
      "text/latex": [
       "\\begin{enumerate*}\n",
       "\\item 'lambda0'\n",
       "\\item 'lambdaA'\n",
       "\\item 'lambdaB'\n",
       "\\item 'lambdaC'\n",
       "\\item 'lambdaD'\n",
       "\\item 'lambdaE'\n",
       "\\item 'lambdaF'\n",
       "\\item 'lambdaAB'\n",
       "\\item 'lambdaAC'\n",
       "\\item 'lambdaAD'\n",
       "\\item 'lambdaAE'\n",
       "\\item 'lambdaAF'\n",
       "\\item 'lambdaBC'\n",
       "\\item 'lambdaBD'\n",
       "\\item 'lambdaBE'\n",
       "\\item 'lambdaBF'\n",
       "\\item 'lambdaCD'\n",
       "\\item 'lambdaCE'\n",
       "\\item 'lambdaCF'\n",
       "\\item 'lambdaDE'\n",
       "\\item 'lambdaDF'\n",
       "\\item 'lambdaEF'\n",
       "\\item 'mu0'\n",
       "\\item 'qA01.0'\n",
       "\\item 'qA10.0'\n",
       "\\item 'qB01.0'\n",
       "\\item 'qB10.0'\n",
       "\\item 'qC01.0'\n",
       "\\item 'qC10.0'\n",
       "\\item 'qD01.0'\n",
       "\\item 'qD10.0'\n",
       "\\item 'qE01.0'\n",
       "\\item 'qE10.0'\n",
       "\\item 'qF01.0'\n",
       "\\item 'qF10.0'\n",
       "\\end{enumerate*}\n"
      ],
      "text/markdown": [
       "1. 'lambda0'\n",
       "2. 'lambdaA'\n",
       "3. 'lambdaB'\n",
       "4. 'lambdaC'\n",
       "5. 'lambdaD'\n",
       "6. 'lambdaE'\n",
       "7. 'lambdaF'\n",
       "8. 'lambdaAB'\n",
       "9. 'lambdaAC'\n",
       "10. 'lambdaAD'\n",
       "11. 'lambdaAE'\n",
       "12. 'lambdaAF'\n",
       "13. 'lambdaBC'\n",
       "14. 'lambdaBD'\n",
       "15. 'lambdaBE'\n",
       "16. 'lambdaBF'\n",
       "17. 'lambdaCD'\n",
       "18. 'lambdaCE'\n",
       "19. 'lambdaCF'\n",
       "20. 'lambdaDE'\n",
       "21. 'lambdaDF'\n",
       "22. 'lambdaEF'\n",
       "23. 'mu0'\n",
       "24. 'qA01.0'\n",
       "25. 'qA10.0'\n",
       "26. 'qB01.0'\n",
       "27. 'qB10.0'\n",
       "28. 'qC01.0'\n",
       "29. 'qC10.0'\n",
       "30. 'qD01.0'\n",
       "31. 'qD10.0'\n",
       "32. 'qE01.0'\n",
       "33. 'qE10.0'\n",
       "34. 'qF01.0'\n",
       "35. 'qF10.0'\n",
       "\n",
       "\n"
      ],
      "text/plain": [
       " [1] \"lambda0\"  \"lambdaA\"  \"lambdaB\"  \"lambdaC\"  \"lambdaD\"  \"lambdaE\" \n",
       " [7] \"lambdaF\"  \"lambdaAB\" \"lambdaAC\" \"lambdaAD\" \"lambdaAE\" \"lambdaAF\"\n",
       "[13] \"lambdaBC\" \"lambdaBD\" \"lambdaBE\" \"lambdaBF\" \"lambdaCD\" \"lambdaCE\"\n",
       "[19] \"lambdaCF\" \"lambdaDE\" \"lambdaDF\" \"lambdaEF\" \"mu0\"      \"qA01.0\"  \n",
       "[25] \"qA10.0\"   \"qB01.0\"   \"qB10.0\"   \"qC01.0\"   \"qC10.0\"   \"qD01.0\"  \n",
       "[31] \"qD10.0\"   \"qE01.0\"   \"qE10.0\"   \"qF01.0\"   \"qF10.0\"  "
      ]
     },
     "metadata": {},
     "output_type": "display_data"
    }
   ],
   "source": [
    "lik_sp2 <- make.musse.multitrait(phy2.0, states2, sampling.f = samp_frac, depth = c(2, 0, 0))\n",
    "argnames(lik_sp2)\n",
    "p <- starting.point.musse.multitrait(phy2.0, lik_sp2)\n",
    "fit_sp2 <- find.mle(lik_sp2, p)"
   ]
  },
  {
   "cell_type": "code",
   "execution_count": 26,
   "metadata": {},
   "outputs": [
    {
     "data": {
      "text/html": [
       "<style>\n",
       ".dl-inline {width: auto; margin:0; padding: 0}\n",
       ".dl-inline>dt, .dl-inline>dd {float: none; width: auto; display: inline-block}\n",
       ".dl-inline>dt::after {content: \":\\0020\"; padding-right: .5ex}\n",
       ".dl-inline>dt:not(:first-of-type) {padding-left: .5ex}\n",
       "</style><dl class=dl-inline><dt>lambdaAC</dt><dd>-0.0287600702255308</dd><dt>lambdaBE</dt><dd>-0.0272781483451817</dd><dt>lambdaAE</dt><dd>-0.0216932355256773</dd><dt>lambdaBD</dt><dd>-0.019172333072347</dd><dt>lambdaF</dt><dd>-0.0101684477439683</dd><dt>lambdaCF</dt><dd>-0.00974742242302679</dd><dt>lambdaDF</dt><dd>-0.00442540819279051</dd><dt>lambdaCD</dt><dd>-0.00415576528246247</dd><dt>lambdaD</dt><dd>-0.00216049088799157</dd><dt>lambdaE</dt><dd>-0.00174447985667764</dd><dt>lambdaB</dt><dd>-6.30387850404294e-05</dd><dt>lambdaA</dt><dd>0.00500083582419073</dd><dt>lambdaAD</dt><dd>0.0057176757700029</dd><dt>lambdaBF</dt><dd>0.00578715444542022</dd><dt>lambdaC</dt><dd>0.00745422570744352</dd><dt>lambdaEF</dt><dd>0.00879065499356034</dd><dt>lambdaBC</dt><dd>0.00969178915030949</dd><dt>lambdaAF</dt><dd>0.0110768828717327</dd><dt>lambdaCE</dt><dd>0.0116469263185667</dd><dt>lambdaAB</dt><dd>0.0155740700931193</dd><dt>lambdaDE</dt><dd>0.0202300439263641</dd></dl>\n"
      ],
      "text/latex": [
       "\\begin{description*}\n",
       "\\item[lambdaAC] -0.0287600702255308\n",
       "\\item[lambdaBE] -0.0272781483451817\n",
       "\\item[lambdaAE] -0.0216932355256773\n",
       "\\item[lambdaBD] -0.019172333072347\n",
       "\\item[lambdaF] -0.0101684477439683\n",
       "\\item[lambdaCF] -0.00974742242302679\n",
       "\\item[lambdaDF] -0.00442540819279051\n",
       "\\item[lambdaCD] -0.00415576528246247\n",
       "\\item[lambdaD] -0.00216049088799157\n",
       "\\item[lambdaE] -0.00174447985667764\n",
       "\\item[lambdaB] -6.30387850404294e-05\n",
       "\\item[lambdaA] 0.00500083582419073\n",
       "\\item[lambdaAD] 0.0057176757700029\n",
       "\\item[lambdaBF] 0.00578715444542022\n",
       "\\item[lambdaC] 0.00745422570744352\n",
       "\\item[lambdaEF] 0.00879065499356034\n",
       "\\item[lambdaBC] 0.00969178915030949\n",
       "\\item[lambdaAF] 0.0110768828717327\n",
       "\\item[lambdaCE] 0.0116469263185667\n",
       "\\item[lambdaAB] 0.0155740700931193\n",
       "\\item[lambdaDE] 0.0202300439263641\n",
       "\\end{description*}\n"
      ],
      "text/markdown": [
       "lambdaAC\n",
       ":   -0.0287600702255308lambdaBE\n",
       ":   -0.0272781483451817lambdaAE\n",
       ":   -0.0216932355256773lambdaBD\n",
       ":   -0.019172333072347lambdaF\n",
       ":   -0.0101684477439683lambdaCF\n",
       ":   -0.00974742242302679lambdaDF\n",
       ":   -0.00442540819279051lambdaCD\n",
       ":   -0.00415576528246247lambdaD\n",
       ":   -0.00216049088799157lambdaE\n",
       ":   -0.00174447985667764lambdaB\n",
       ":   -6.30387850404294e-05lambdaA\n",
       ":   0.00500083582419073lambdaAD\n",
       ":   0.0057176757700029lambdaBF\n",
       ":   0.00578715444542022lambdaC\n",
       ":   0.00745422570744352lambdaEF\n",
       ":   0.00879065499356034lambdaBC\n",
       ":   0.00969178915030949lambdaAF\n",
       ":   0.0110768828717327lambdaCE\n",
       ":   0.0116469263185667lambdaAB\n",
       ":   0.0155740700931193lambdaDE\n",
       ":   0.0202300439263641\n",
       "\n"
      ],
      "text/plain": [
       "     lambdaAC      lambdaBE      lambdaAE      lambdaBD       lambdaF \n",
       "-2.876007e-02 -2.727815e-02 -2.169324e-02 -1.917233e-02 -1.016845e-02 \n",
       "     lambdaCF      lambdaDF      lambdaCD       lambdaD       lambdaE \n",
       "-9.747422e-03 -4.425408e-03 -4.155765e-03 -2.160491e-03 -1.744480e-03 \n",
       "      lambdaB       lambdaA      lambdaAD      lambdaBF       lambdaC \n",
       "-6.303879e-05  5.000836e-03  5.717676e-03  5.787154e-03  7.454226e-03 \n",
       "     lambdaEF      lambdaBC      lambdaAF      lambdaCE      lambdaAB \n",
       " 8.790655e-03  9.691789e-03  1.107688e-02  1.164693e-02  1.557407e-02 \n",
       "     lambdaDE \n",
       " 2.023004e-02 "
      ]
     },
     "metadata": {},
     "output_type": "display_data"
    }
   ],
   "source": [
    "sort(fit_sp2$par[c(2:22)])"
   ]
  },
  {
   "cell_type": "markdown",
   "metadata": {},
   "source": [
    "### Speciation 3 model (combinaison of three traits allowed)"
   ]
  },
  {
   "cell_type": "code",
   "execution_count": 27,
   "metadata": {},
   "outputs": [],
   "source": [
    "### Speciation 2 model (combinaison of three traits allowed)"
   ]
  },
  {
   "cell_type": "code",
   "execution_count": 28,
   "metadata": {},
   "outputs": [
    {
     "data": {
      "text/html": [
       "<style>\n",
       ".list-inline {list-style: none; margin:0; padding: 0}\n",
       ".list-inline>li {display: inline-block}\n",
       ".list-inline>li:not(:last-child)::after {content: \"\\00b7\"; padding: 0 .5ex}\n",
       "</style>\n",
       "<ol class=list-inline><li>'lambda0'</li><li>'lambdaA'</li><li>'lambdaB'</li><li>'lambdaC'</li><li>'lambdaD'</li><li>'lambdaE'</li><li>'lambdaF'</li><li>'lambdaAB'</li><li>'lambdaAC'</li><li>'lambdaAD'</li><li>'lambdaAE'</li><li>'lambdaAF'</li><li>'lambdaBC'</li><li>'lambdaBD'</li><li>'lambdaBE'</li><li>'lambdaBF'</li><li>'lambdaCD'</li><li>'lambdaCE'</li><li>'lambdaCF'</li><li>'lambdaDE'</li><li>'lambdaDF'</li><li>'lambdaEF'</li><li>'lambdaABC'</li><li>'lambdaABD'</li><li>'lambdaABE'</li><li>'lambdaABF'</li><li>'lambdaACD'</li><li>'lambdaACE'</li><li>'lambdaACF'</li><li>'lambdaADE'</li><li>'lambdaADF'</li><li>'lambdaAEF'</li><li>'lambdaBCD'</li><li>'lambdaBCE'</li><li>'lambdaBCF'</li><li>'lambdaBDE'</li><li>'lambdaBDF'</li><li>'lambdaBEF'</li><li>'lambdaCDE'</li><li>'lambdaCDF'</li><li>'lambdaCEF'</li><li>'lambdaDEF'</li><li>'mu0'</li><li>'qA01.0'</li><li>'qA10.0'</li><li>'qB01.0'</li><li>'qB10.0'</li><li>'qC01.0'</li><li>'qC10.0'</li><li>'qD01.0'</li><li>'qD10.0'</li><li>'qE01.0'</li><li>'qE10.0'</li><li>'qF01.0'</li><li>'qF10.0'</li></ol>\n"
      ],
      "text/latex": [
       "\\begin{enumerate*}\n",
       "\\item 'lambda0'\n",
       "\\item 'lambdaA'\n",
       "\\item 'lambdaB'\n",
       "\\item 'lambdaC'\n",
       "\\item 'lambdaD'\n",
       "\\item 'lambdaE'\n",
       "\\item 'lambdaF'\n",
       "\\item 'lambdaAB'\n",
       "\\item 'lambdaAC'\n",
       "\\item 'lambdaAD'\n",
       "\\item 'lambdaAE'\n",
       "\\item 'lambdaAF'\n",
       "\\item 'lambdaBC'\n",
       "\\item 'lambdaBD'\n",
       "\\item 'lambdaBE'\n",
       "\\item 'lambdaBF'\n",
       "\\item 'lambdaCD'\n",
       "\\item 'lambdaCE'\n",
       "\\item 'lambdaCF'\n",
       "\\item 'lambdaDE'\n",
       "\\item 'lambdaDF'\n",
       "\\item 'lambdaEF'\n",
       "\\item 'lambdaABC'\n",
       "\\item 'lambdaABD'\n",
       "\\item 'lambdaABE'\n",
       "\\item 'lambdaABF'\n",
       "\\item 'lambdaACD'\n",
       "\\item 'lambdaACE'\n",
       "\\item 'lambdaACF'\n",
       "\\item 'lambdaADE'\n",
       "\\item 'lambdaADF'\n",
       "\\item 'lambdaAEF'\n",
       "\\item 'lambdaBCD'\n",
       "\\item 'lambdaBCE'\n",
       "\\item 'lambdaBCF'\n",
       "\\item 'lambdaBDE'\n",
       "\\item 'lambdaBDF'\n",
       "\\item 'lambdaBEF'\n",
       "\\item 'lambdaCDE'\n",
       "\\item 'lambdaCDF'\n",
       "\\item 'lambdaCEF'\n",
       "\\item 'lambdaDEF'\n",
       "\\item 'mu0'\n",
       "\\item 'qA01.0'\n",
       "\\item 'qA10.0'\n",
       "\\item 'qB01.0'\n",
       "\\item 'qB10.0'\n",
       "\\item 'qC01.0'\n",
       "\\item 'qC10.0'\n",
       "\\item 'qD01.0'\n",
       "\\item 'qD10.0'\n",
       "\\item 'qE01.0'\n",
       "\\item 'qE10.0'\n",
       "\\item 'qF01.0'\n",
       "\\item 'qF10.0'\n",
       "\\end{enumerate*}\n"
      ],
      "text/markdown": [
       "1. 'lambda0'\n",
       "2. 'lambdaA'\n",
       "3. 'lambdaB'\n",
       "4. 'lambdaC'\n",
       "5. 'lambdaD'\n",
       "6. 'lambdaE'\n",
       "7. 'lambdaF'\n",
       "8. 'lambdaAB'\n",
       "9. 'lambdaAC'\n",
       "10. 'lambdaAD'\n",
       "11. 'lambdaAE'\n",
       "12. 'lambdaAF'\n",
       "13. 'lambdaBC'\n",
       "14. 'lambdaBD'\n",
       "15. 'lambdaBE'\n",
       "16. 'lambdaBF'\n",
       "17. 'lambdaCD'\n",
       "18. 'lambdaCE'\n",
       "19. 'lambdaCF'\n",
       "20. 'lambdaDE'\n",
       "21. 'lambdaDF'\n",
       "22. 'lambdaEF'\n",
       "23. 'lambdaABC'\n",
       "24. 'lambdaABD'\n",
       "25. 'lambdaABE'\n",
       "26. 'lambdaABF'\n",
       "27. 'lambdaACD'\n",
       "28. 'lambdaACE'\n",
       "29. 'lambdaACF'\n",
       "30. 'lambdaADE'\n",
       "31. 'lambdaADF'\n",
       "32. 'lambdaAEF'\n",
       "33. 'lambdaBCD'\n",
       "34. 'lambdaBCE'\n",
       "35. 'lambdaBCF'\n",
       "36. 'lambdaBDE'\n",
       "37. 'lambdaBDF'\n",
       "38. 'lambdaBEF'\n",
       "39. 'lambdaCDE'\n",
       "40. 'lambdaCDF'\n",
       "41. 'lambdaCEF'\n",
       "42. 'lambdaDEF'\n",
       "43. 'mu0'\n",
       "44. 'qA01.0'\n",
       "45. 'qA10.0'\n",
       "46. 'qB01.0'\n",
       "47. 'qB10.0'\n",
       "48. 'qC01.0'\n",
       "49. 'qC10.0'\n",
       "50. 'qD01.0'\n",
       "51. 'qD10.0'\n",
       "52. 'qE01.0'\n",
       "53. 'qE10.0'\n",
       "54. 'qF01.0'\n",
       "55. 'qF10.0'\n",
       "\n",
       "\n"
      ],
      "text/plain": [
       " [1] \"lambda0\"   \"lambdaA\"   \"lambdaB\"   \"lambdaC\"   \"lambdaD\"   \"lambdaE\"  \n",
       " [7] \"lambdaF\"   \"lambdaAB\"  \"lambdaAC\"  \"lambdaAD\"  \"lambdaAE\"  \"lambdaAF\" \n",
       "[13] \"lambdaBC\"  \"lambdaBD\"  \"lambdaBE\"  \"lambdaBF\"  \"lambdaCD\"  \"lambdaCE\" \n",
       "[19] \"lambdaCF\"  \"lambdaDE\"  \"lambdaDF\"  \"lambdaEF\"  \"lambdaABC\" \"lambdaABD\"\n",
       "[25] \"lambdaABE\" \"lambdaABF\" \"lambdaACD\" \"lambdaACE\" \"lambdaACF\" \"lambdaADE\"\n",
       "[31] \"lambdaADF\" \"lambdaAEF\" \"lambdaBCD\" \"lambdaBCE\" \"lambdaBCF\" \"lambdaBDE\"\n",
       "[37] \"lambdaBDF\" \"lambdaBEF\" \"lambdaCDE\" \"lambdaCDF\" \"lambdaCEF\" \"lambdaDEF\"\n",
       "[43] \"mu0\"       \"qA01.0\"    \"qA10.0\"    \"qB01.0\"    \"qB10.0\"    \"qC01.0\"   \n",
       "[49] \"qC10.0\"    \"qD01.0\"    \"qD10.0\"    \"qE01.0\"    \"qE10.0\"    \"qF01.0\"   \n",
       "[55] \"qF10.0\"   "
      ]
     },
     "metadata": {},
     "output_type": "display_data"
    },
    {
     "name": "stderr",
     "output_type": "stream",
     "text": [
      "Warning message in mle.search(func2, x.init, control, lower, upper):\n",
      "“Convergence problems in find.mle (subplex): number of function evaluations exceeds 'maxit'”\n"
     ]
    }
   ],
   "source": [
    "lik_sp3 <- make.musse.multitrait(phy2.0, states2, sampling.f = samp_frac, depth = c(3, 0, 0))\n",
    "argnames(lik_sp3)\n",
    "p <- starting.point.musse.multitrait(phy2.0, lik_sp3)\n",
    "fit_sp3 <- find.mle(lik_sp3, p)"
   ]
  },
  {
   "cell_type": "markdown",
   "metadata": {},
   "source": [
    "### Comparing models"
   ]
  },
  {
   "cell_type": "code",
   "execution_count": 29,
   "metadata": {},
   "outputs": [],
   "source": [
    "### Comparing models"
   ]
  },
  {
   "cell_type": "code",
   "execution_count": 30,
   "metadata": {},
   "outputs": [],
   "source": [
    "# Aicc function\n",
    "aicc<-function(ll,k){round((2*(-round(ll,4))+2*k+(2*k*(k+1))/(Ntip(phy2.0)-k-1)),3)}"
   ]
  },
  {
   "cell_type": "code",
   "execution_count": 31,
   "metadata": {},
   "outputs": [],
   "source": [
    "aicc_vec<-c(aicc(fit0$lnLik, length(argnames(lik0))), aicc(fit_sp1$lnLik, length(argnames(lik_sp1))), aicc(fit_sp2$lnLik, length(argnames(lik_sp2))),aicc(fit_sp3$lnLik, length(argnames(lik_sp3))))"
   ]
  },
  {
   "cell_type": "code",
   "execution_count": 32,
   "metadata": {},
   "outputs": [],
   "source": [
    "habitat_binary_model_comp<-as.data.frame(cbind(c(fit0$lnLik, fit_sp1$lnLik, fit_sp2$lnLik, fit_sp3$lnLik), c(length(argnames(lik0)), length(argnames(lik_sp1)), length(argnames(lik_sp2)), length(argnames(lik_sp3))), aicc_vec, round(akaike.weights(aicc_vec)$deltaAIC, 3), round(akaike.weights(aicc_vec)$weights, 3)))"
   ]
  },
  {
   "cell_type": "code",
   "execution_count": 33,
   "metadata": {},
   "outputs": [],
   "source": [
    "colnames(habitat_binary_model_comp)<-c(\"log likelihood\", \"number of parameters\", \"AICc\", \"Delta AIC\", \"AIC weights\")\n",
    "rownames(habitat_binary_model_comp)<-c(\"Null model\", \"Speciation 1\", \"Speciation 2\", \"Speciation 3\")"
   ]
  },
  {
   "cell_type": "code",
   "execution_count": 34,
   "metadata": {},
   "outputs": [
    {
     "data": {
      "text/html": [
       "<table class=\"dataframe\">\n",
       "<caption>A data.frame: 4 × 5</caption>\n",
       "<thead>\n",
       "\t<tr><th></th><th scope=col>log likelihood</th><th scope=col>number of parameters</th><th scope=col>AICc</th><th scope=col>Delta AIC</th><th scope=col>AIC weights</th></tr>\n",
       "\t<tr><th></th><th scope=col>&lt;dbl&gt;</th><th scope=col>&lt;dbl&gt;</th><th scope=col>&lt;dbl&gt;</th><th scope=col>&lt;dbl&gt;</th><th scope=col>&lt;dbl&gt;</th></tr>\n",
       "</thead>\n",
       "<tbody>\n",
       "\t<tr><th scope=row>Null model</th><td>-2587.210</td><td>14</td><td>5203.564</td><td>20.038</td><td>0</td></tr>\n",
       "\t<tr><th scope=row>Speciation 1</th><td>-2578.893</td><td>20</td><td>5200.113</td><td>16.587</td><td>0</td></tr>\n",
       "\t<tr><th scope=row>Speciation 2</th><td>-2553.121</td><td>35</td><td>5183.526</td><td> 0.000</td><td>1</td></tr>\n",
       "\t<tr><th scope=row>Speciation 3</th><td>-2554.586</td><td>55</td><td>5238.069</td><td>54.543</td><td>0</td></tr>\n",
       "</tbody>\n",
       "</table>\n"
      ],
      "text/latex": [
       "A data.frame: 4 × 5\n",
       "\\begin{tabular}{r|lllll}\n",
       "  & log likelihood & number of parameters & AICc & Delta AIC & AIC weights\\\\\n",
       "  & <dbl> & <dbl> & <dbl> & <dbl> & <dbl>\\\\\n",
       "\\hline\n",
       "\tNull model & -2587.210 & 14 & 5203.564 & 20.038 & 0\\\\\n",
       "\tSpeciation 1 & -2578.893 & 20 & 5200.113 & 16.587 & 0\\\\\n",
       "\tSpeciation 2 & -2553.121 & 35 & 5183.526 &  0.000 & 1\\\\\n",
       "\tSpeciation 3 & -2554.586 & 55 & 5238.069 & 54.543 & 0\\\\\n",
       "\\end{tabular}\n"
      ],
      "text/markdown": [
       "\n",
       "A data.frame: 4 × 5\n",
       "\n",
       "| <!--/--> | log likelihood &lt;dbl&gt; | number of parameters &lt;dbl&gt; | AICc &lt;dbl&gt; | Delta AIC &lt;dbl&gt; | AIC weights &lt;dbl&gt; |\n",
       "|---|---|---|---|---|---|\n",
       "| Null model | -2587.210 | 14 | 5203.564 | 20.038 | 0 |\n",
       "| Speciation 1 | -2578.893 | 20 | 5200.113 | 16.587 | 0 |\n",
       "| Speciation 2 | -2553.121 | 35 | 5183.526 |  0.000 | 1 |\n",
       "| Speciation 3 | -2554.586 | 55 | 5238.069 | 54.543 | 0 |\n",
       "\n"
      ],
      "text/plain": [
       "             log likelihood number of parameters AICc     Delta AIC AIC weights\n",
       "Null model   -2587.210      14                   5203.564 20.038    0          \n",
       "Speciation 1 -2578.893      20                   5200.113 16.587    0          \n",
       "Speciation 2 -2553.121      35                   5183.526  0.000    1          \n",
       "Speciation 3 -2554.586      55                   5238.069 54.543    0          "
      ]
     },
     "metadata": {},
     "output_type": "display_data"
    }
   ],
   "source": [
    "habitat_binary_model_comp"
   ]
  },
  {
   "cell_type": "code",
   "execution_count": 35,
   "metadata": {},
   "outputs": [],
   "source": [
    "write.table(habitat_binary_model_comp, \"MuSSE_Multi_State.tsv\", sep =\"\\t\")"
   ]
  }
 ],
 "metadata": {
  "kernelspec": {
   "display_name": "R",
   "language": "R",
   "name": "ir"
  },
  "language_info": {
   "codemirror_mode": "r",
   "file_extension": ".r",
   "mimetype": "text/x-r-source",
   "name": "R",
   "pygments_lexer": "r",
   "version": "4.2.2"
  }
 },
 "nbformat": 4,
 "nbformat_minor": 5
}
