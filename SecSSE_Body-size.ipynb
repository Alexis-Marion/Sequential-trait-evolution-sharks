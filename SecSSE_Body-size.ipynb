{
 "cells": [
  {
   "cell_type": "markdown",
   "metadata": {},
   "source": [
    "# SecSSE Body-size"
   ]
  },
  {
   "cell_type": "code",
   "execution_count": null,
   "metadata": {},
   "outputs": [],
   "source": [
    "# SecSSE Body-size"
   ]
  },
  {
   "cell_type": "markdown",
   "metadata": {},
   "source": [
    "## I Data preparation"
   ]
  },
  {
   "cell_type": "code",
   "execution_count": null,
   "metadata": {},
   "outputs": [],
   "source": [
    "# I Data preparation"
   ]
  },
  {
   "cell_type": "markdown",
   "metadata": {},
   "source": [
    "### Loading packages"
   ]
  },
  {
   "cell_type": "code",
   "execution_count": null,
   "metadata": {
    "scrolled": false
   },
   "outputs": [],
   "source": [
    "# Loading packages\n",
    "library(\"ape\")\n",
    "library(\"secsse\")\n",
    "library(\"DDD\")\n",
    "library(\"doMC\")\n",
    "library(\"tidyverse\")\n",
    "library(\"parallel\")\n",
    "library(\"qgraph\")\n",
    "library(\"stringr\")"
   ]
  },
  {
   "cell_type": "markdown",
   "metadata": {},
   "source": [
    "### Loading data"
   ]
  },
  {
   "cell_type": "code",
   "execution_count": null,
   "metadata": {},
   "outputs": [],
   "source": [
    "# Loading data\n",
    "df<-read.csv(\"Table_body_size.tsv\", sep=\"\\t\") # omit sep =\"\\t\" for .csv files\n",
    "phy1.0<-read.nexus(\"382sp_16C_20FC.tree\")"
   ]
  },
  {
   "cell_type": "markdown",
   "metadata": {},
   "source": [
    "### Optional step (cleaning data)"
   ]
  },
  {
   "cell_type": "code",
   "execution_count": null,
   "metadata": {},
   "outputs": [],
   "source": [
    "# Optional step (cleaning data)\n",
    "states<-df$Maximum_body_size\n",
    "names(states)=str_replace((rownames(df)), \" \", \"_\")\n",
    "states2<-states[!names(states) %in% setdiff(names(states), phy1.0$tip.label)]"
   ]
  },
  {
   "cell_type": "markdown",
   "metadata": {},
   "source": [
    "### Computing sampling fractions"
   ]
  },
  {
   "cell_type": "code",
   "execution_count": null,
   "metadata": {},
   "outputs": [],
   "source": [
    "# Computing sampling fractions\n",
    "f<-c(\n",
    "length(states2[states2==\"1\"])/length(df$Maximum_body_size[df$Maximum_body_size==\"1\"]),\n",
    "length(states2[states2==\"2\"])/length(df$Maximum_body_size[df$Maximum_body_size==\"2\"]),\n",
    "length(states2[states2==\"3\"])/length(df$Maximum_body_size[df$Maximum_body_size==\"3\"]))"
   ]
  },
  {
   "cell_type": "code",
   "execution_count": null,
   "metadata": {},
   "outputs": [],
   "source": [
    "states3<-as.data.frame(cbind(names(states2), as.factor(states2)))\n",
    "colnames(states3)<-c(\"species\",\"states\")\n",
    "rownames(states3)<-NULL\n",
    "traits <- sortingtraits(states3, phy)"
   ]
  },
  {
   "cell_type": "code",
   "execution_count": null,
   "metadata": {},
   "outputs": [],
   "source": [
    "n_states<-length(unique(na.omit(traits)))"
   ]
  },
  {
   "cell_type": "code",
   "execution_count": null,
   "metadata": {},
   "outputs": [],
   "source": [
    "states<-traits"
   ]
  },
  {
   "cell_type": "markdown",
   "metadata": {},
   "source": [
    "## II SecSSE analyses"
   ]
  },
  {
   "cell_type": "code",
   "execution_count": null,
   "metadata": {},
   "outputs": [],
   "source": [
    "# II SecSSE analyses"
   ]
  },
  {
   "cell_type": "markdown",
   "metadata": {},
   "source": [
    "### Loads the models to be tested"
   ]
  },
  {
   "cell_type": "code",
   "execution_count": null,
   "metadata": {},
   "outputs": [],
   "source": [
    "# Loads the models to be tested\n",
    "source(\"aux_scripts/secsse_functions.R\")\n",
    "source(\"aux_scripts/secsse_base_models.R\")"
   ]
  },
  {
   "cell_type": "markdown",
   "metadata": {},
   "source": [
    "### Constraining some transitions to be null"
   ]
  },
  {
   "cell_type": "code",
   "execution_count": null,
   "metadata": {},
   "outputs": [],
   "source": [
    "# Constraining some transitions to be null\n",
    "mask<-matrix(1, nrow=3, ncol=3)\n",
    "diag(mask)<-NA\n",
    "mask[1,3]<-0\n",
    "mask[3,1]<-0"
   ]
  },
  {
   "cell_type": "markdown",
   "metadata": {},
   "source": [
    "### Applying the previous matrix"
   ]
  },
  {
   "cell_type": "code",
   "execution_count": null,
   "metadata": {},
   "outputs": [],
   "source": [
    "# Applying the previous matrix\n",
    "for(i in 1:length(models)){\n",
    "  models[[i]]$idparslist$Q<-mask_q(q=models[[i]]$idparslist$Q, mask=mask, n_states = n_states)\n",
    "}\n",
    "\n",
    "for(i in 1:length(models)){\n",
    "  \n",
    "  idparsopt = sort(unique(na.omit(unname(unlist(models[[i]]$idparslist)))))\n",
    "  if(any(idparsopt %in% 0)){\n",
    "    idparsopt = idparsopt[idparsopt!=0]\n",
    "    idparsfix = c(0)\n",
    "    parsfix = c(0)\n",
    "  } else {\n",
    "    idparsfix = c()\n",
    "    parsfix = c()\n",
    "  }\n",
    "  \n",
    "  models[[i]]<-append(models[[i]],\n",
    "                      list(\n",
    "                        idparsopt=idparsopt,\n",
    "                        idparsfix=idparsfix,\n",
    "                        parsfix=parsfix\n",
    "                      )\n",
    "  )\n",
    "}"
   ]
  },
  {
   "cell_type": "markdown",
   "metadata": {},
   "source": [
    "### Assigning starting value and initialization"
   ]
  },
  {
   "cell_type": "code",
   "execution_count": null,
   "metadata": {
    "scrolled": true
   },
   "outputs": [],
   "source": [
    "# Assigning starting value and initialization\n",
    "startingpoint <- bd_ML(brts = ape::branching.times(phy))\n",
    "intGuessLambda <- startingpoint$lambda0\n",
    "intGuessMu <- startingpoint$mu0\n",
    "\n",
    "intGuessLambdas<-c(intGuessLambda, intGuessLambda/2, intGuessLambda*2)\n",
    "intGuessMus <- c(intGuessMu, intGuessMu/2, intGuessMu*2)\n",
    "initTrans <- intGuessLambdas/n_states\n",
    "\n",
    "nrep=length(intGuessLambdas)\n",
    "\n",
    "replicate_models<-rep(models,each=nrep)\n",
    "names(replicate_models)<-paste0(rep(names(models), each=nrep), rep(paste0(\"_try\", 1:nrep),nrep))\n",
    "names(replicate_models)\n",
    "models<-replicate_models\n",
    "iterator=rep(1:nrep, length(models)/nrep)\n",
    "for(i in 1:length(models)){\n",
    "  initparsopt = c(\n",
    "    rep(intGuessLambdas[iterator[i]],length(unique(models[[i]]$idparslist$lambdas))),\n",
    "    ifelse(unique(models[[i]]$idparslist$mus)!=0,\n",
    "      rep(intGuessMus[iterator[i]],length(unique(models[[i]]$idparslist$mus))),\n",
    "      0\n",
    "    ),\n",
    "    rep(initTrans[iterator[i]],length(which(unique(c(models[[i]]$idparslist$Q))>0)))\n",
    "  )\n",
    "  initparsopt<-initparsopt[initparsopt!=0]\n",
    "\n",
    "  models[[i]]$initparsopt<-initparsopt\n",
    "\n",
    "}\n",
    "\n",
    "all(sapply(models, FUN = function(x) length(x$initparsopt)==length(x$idparsopt)))\n",
    "\n",
    "lapply(models, `[[`, \"idparslist\")"
   ]
  },
  {
   "cell_type": "code",
   "execution_count": null,
   "metadata": {},
   "outputs": [],
   "source": [
    "models<-lapply(models, FUN=append,\n",
    "               list(phy = phy,\n",
    "                    traits = states,\n",
    "                    cond=\"proper_cond\",\n",
    "                    root_state_weight = c(1,0,0),\n",
    "                    sampling_fraction=f,\n",
    "                    num_cycles = 3, ### WARNING!!!! set this to something higher!!! - takes a very long time\n",
    "                    run_parallel=T)\n",
    "               )"
   ]
  },
  {
   "cell_type": "markdown",
   "metadata": {},
   "source": [
    "### Creating an output directory"
   ]
  },
  {
   "cell_type": "code",
   "execution_count": null,
   "metadata": {},
   "outputs": [],
   "source": [
    "# Creating an output directory\n",
    "run_secsse<-function(i) {\n",
    "\n",
    "  if(!dir.exists(\"secsse_out_body_size\")) dir.create(\"secsse_out_body_size\")\n",
    "\n",
    "  try(\n",
    "    saveRDS(do.call(secsse_ml, args=models[[i]]),\n",
    "            file = paste0(\"secsse_out_body_size/\",names(models)[i],\"_out.rds\")))\n",
    "}"
   ]
  },
  {
   "cell_type": "markdown",
   "metadata": {},
   "source": [
    "### Running the models in parallel"
   ]
  },
  {
   "cell_type": "code",
   "execution_count": null,
   "metadata": {},
   "outputs": [],
   "source": [
    "# Running the models in parallel\n",
    "n_cores=ifelse(length(models)>30, 30, length(models))\n",
    "n_cores\n",
    "mclapply(FUN=run_secsse,\n",
    "         X=1:length(models),\n",
    "         mc.cores = n_cores)"
   ]
  }
 ],
 "metadata": {
  "kernelspec": {
   "display_name": "R",
   "language": "R",
   "name": "ir"
  },
  "language_info": {
   "codemirror_mode": "r",
   "file_extension": ".r",
   "mimetype": "text/x-r-source",
   "name": "R",
   "pygments_lexer": "r",
   "version": "4.2.2"
  }
 },
 "nbformat": 4,
 "nbformat_minor": 4
}
