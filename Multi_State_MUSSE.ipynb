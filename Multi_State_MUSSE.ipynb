{
 "cells": [
  {
   "cell_type": "markdown",
   "metadata": {},
   "source": [
    "## Multi binary state : habitat"
   ]
  },
  {
   "cell_type": "code",
   "execution_count": 1,
   "metadata": {},
   "outputs": [],
   "source": [
    "# Multi binary state : habitat"
   ]
  },
  {
   "cell_type": "markdown",
   "metadata": {},
   "source": [
    "## I Data preparation"
   ]
  },
  {
   "cell_type": "code",
   "execution_count": 2,
   "metadata": {},
   "outputs": [],
   "source": [
    "## I Data preparation"
   ]
  },
  {
   "cell_type": "markdown",
   "metadata": {},
   "source": [
    "### Loading packages"
   ]
  },
  {
   "cell_type": "code",
   "execution_count": 3,
   "metadata": {},
   "outputs": [],
   "source": [
    "### Loading packages"
   ]
  },
  {
   "cell_type": "code",
   "execution_count": 4,
   "metadata": {
    "scrolled": true
   },
   "outputs": [
    {
     "name": "stderr",
     "output_type": "stream",
     "text": [
      "Le chargement a nécessité le package : ape\n",
      "\n",
      "Le chargement a nécessité le package : MASS\n",
      "\n",
      "Le chargement a nécessité le package : minpack.lm\n",
      "\n",
      "Le chargement a nécessité le package : rgl\n",
      "\n",
      "This build of rgl does not include OpenGL functions.  Use\n",
      " rglwidget() to display results, e.g. via options(rgl.printRglwidget = TRUE).\n",
      "\n",
      "Le chargement a nécessité le package : robustbase\n",
      "\n",
      "Le chargement a nécessité le package : Matrix\n",
      "\n"
     ]
    }
   ],
   "source": [
    "library(\"diversitree\")\n",
    "library(\"stringr\")\n",
    "library(\"qpcR\")"
   ]
  },
  {
   "cell_type": "markdown",
   "metadata": {},
   "source": [
    "### Loading data"
   ]
  },
  {
   "cell_type": "code",
   "execution_count": 5,
   "metadata": {},
   "outputs": [],
   "source": [
    "### Loading data"
   ]
  },
  {
   "cell_type": "code",
   "execution_count": 6,
   "metadata": {},
   "outputs": [],
   "source": [
    "my_df<-read.csv(\"Path/to/your/file.tsv\", sep=\"\\t\")"
   ]
  },
  {
   "cell_type": "code",
   "execution_count": 7,
   "metadata": {},
   "outputs": [],
   "source": [
    "aicc<-function(ll,k){round((2*(-round(ll,4))+2*k+(2*k*(k+1))/(Ntip(phy2.0)-k-1)),3)}"
   ]
  },
  {
   "cell_type": "code",
   "execution_count": 8,
   "metadata": {},
   "outputs": [],
   "source": [
    "rownames(my_df)<-str_replace(rownames(my_df), \" \", \"_\")"
   ]
  },
  {
   "cell_type": "code",
   "execution_count": 9,
   "metadata": {},
   "outputs": [],
   "source": [
    "phy<-read.nexus(\"Path/to/your/tree.tree\")"
   ]
  },
  {
   "cell_type": "code",
   "execution_count": 10,
   "metadata": {},
   "outputs": [],
   "source": [
    "states<-data.frame(my_df$Lower.Slope.Deep, my_df$Upper.Slope, my_df$Shelf, my_df$Reef, my_df$Coastal, my_df$Oceanic.coastal.pelagic)\n",
    "states[states == \"No\"] <- 0\n",
    "states[states == \"Yes\"] <- 1\n",
    "rownames(states)<-rownames(my_df)\n",
    "names(states)<-rownames(df)\n",
    "states2<-states[!rownames(states) %in% setdiff(rownames(states), phy$tip.label),]"
   ]
  },
  {
   "cell_type": "markdown",
   "metadata": {},
   "source": [
    "### Computing sampling fraction"
   ]
  },
  {
   "cell_type": "code",
   "execution_count": 11,
   "metadata": {},
   "outputs": [],
   "source": [
    "### Computing sampling fraction"
   ]
  },
  {
   "cell_type": "code",
   "execution_count": 12,
   "metadata": {},
   "outputs": [],
   "source": [
    "samp_frac<-c(\n",
    "length(states2[,1])/length(states[,1]))"
   ]
  },
  {
   "cell_type": "markdown",
   "metadata": {},
   "source": [
    "### Computing states percentages"
   ]
  },
  {
   "cell_type": "code",
   "execution_count": 13,
   "metadata": {},
   "outputs": [],
   "source": [
    "### Computing states percentages"
   ]
  },
  {
   "cell_type": "code",
   "execution_count": 14,
   "metadata": {},
   "outputs": [],
   "source": [
    "states2[,1]<-as.numeric(states2[,1])\n",
    "states2[,2]<-as.numeric(states2[,2])\n",
    "states2[,3]<-as.numeric(states2[,3])\n",
    "states2[,4]<-as.numeric(states2[,4])\n",
    "states2[,5]<-as.numeric(states2[,5])\n",
    "states2[,6]<-as.numeric(states2[,6])"
   ]
  },
  {
   "cell_type": "code",
   "execution_count": 15,
   "metadata": {},
   "outputs": [
    {
     "data": {
      "text/html": [
       "0.356382978723404"
      ],
      "text/latex": [
       "0.356382978723404"
      ],
      "text/markdown": [
       "0.356382978723404"
      ],
      "text/plain": [
       "[1] 0.356383"
      ]
     },
     "metadata": {},
     "output_type": "display_data"
    },
    {
     "data": {
      "text/html": [
       "0.468085106382979"
      ],
      "text/latex": [
       "0.468085106382979"
      ],
      "text/markdown": [
       "0.468085106382979"
      ],
      "text/plain": [
       "[1] 0.4680851"
      ]
     },
     "metadata": {},
     "output_type": "display_data"
    },
    {
     "data": {
      "text/html": [
       "0.151595744680851"
      ],
      "text/latex": [
       "0.151595744680851"
      ],
      "text/markdown": [
       "0.151595744680851"
      ],
      "text/plain": [
       "[1] 0.1515957"
      ]
     },
     "metadata": {},
     "output_type": "display_data"
    },
    {
     "data": {
      "text/html": [
       "0.023936170212766"
      ],
      "text/latex": [
       "0.023936170212766"
      ],
      "text/markdown": [
       "0.023936170212766"
      ],
      "text/plain": [
       "[1] 0.02393617"
      ]
     },
     "metadata": {},
     "output_type": "display_data"
    }
   ],
   "source": [
    "length(rowSums(states2)[rowSums(states2) == 1])/length(rowSums(states2))\n",
    "length(rowSums(states2)[rowSums(states2) == 2])/length(rowSums(states2))\n",
    "length(rowSums(states2)[rowSums(states2) == 3])/length(rowSums(states2))\n",
    "length(rowSums(states2)[rowSums(states2) == 4])/length(rowSums(states2))"
   ]
  },
  {
   "cell_type": "code",
   "execution_count": 16,
   "metadata": {},
   "outputs": [],
   "source": [
    "phy2.0<-drop.tip(phy, setdiff(phy$tip.label, (rownames(states))))"
   ]
  },
  {
   "cell_type": "code",
   "execution_count": 17,
   "metadata": {},
   "outputs": [],
   "source": [
    "colnames(states2)<-c(\"A\", \"B\", \"C\", \"D\", \"E\", \"F\")"
   ]
  },
  {
   "cell_type": "markdown",
   "metadata": {},
   "source": [
    "## II Running the analysis"
   ]
  },
  {
   "cell_type": "code",
   "execution_count": 18,
   "metadata": {},
   "outputs": [],
   "source": [
    "## II Running the analysis"
   ]
  },
  {
   "cell_type": "markdown",
   "metadata": {},
   "source": [
    "### Null model (no variation in any rates)"
   ]
  },
  {
   "cell_type": "code",
   "execution_count": 19,
   "metadata": {},
   "outputs": [],
   "source": [
    "### Null model (no variation in any rates)"
   ]
  },
  {
   "cell_type": "code",
   "execution_count": 20,
   "metadata": {},
   "outputs": [
    {
     "data": {
      "text/html": [
       "0.720306513409962"
      ],
      "text/latex": [
       "0.720306513409962"
      ],
      "text/markdown": [
       "0.720306513409962"
      ],
      "text/plain": [
       "[1] 0.7203065"
      ]
     },
     "metadata": {},
     "output_type": "display_data"
    }
   ],
   "source": [
    "samp_frac"
   ]
  },
  {
   "cell_type": "code",
   "execution_count": 21,
   "metadata": {
    "scrolled": true
   },
   "outputs": [
    {
     "data": {
      "text/html": [
       "<style>\n",
       ".list-inline {list-style: none; margin:0; padding: 0}\n",
       ".list-inline>li {display: inline-block}\n",
       ".list-inline>li:not(:last-child)::after {content: \"\\00b7\"; padding: 0 .5ex}\n",
       "</style>\n",
       "<ol class=list-inline><li>'lambda0'</li><li>'mu0'</li><li>'qA01.0'</li><li>'qA10.0'</li><li>'qB01.0'</li><li>'qB10.0'</li><li>'qC01.0'</li><li>'qC10.0'</li><li>'qD01.0'</li><li>'qD10.0'</li><li>'qE01.0'</li><li>'qE10.0'</li><li>'qF01.0'</li><li>'qF10.0'</li></ol>\n"
      ],
      "text/latex": [
       "\\begin{enumerate*}\n",
       "\\item 'lambda0'\n",
       "\\item 'mu0'\n",
       "\\item 'qA01.0'\n",
       "\\item 'qA10.0'\n",
       "\\item 'qB01.0'\n",
       "\\item 'qB10.0'\n",
       "\\item 'qC01.0'\n",
       "\\item 'qC10.0'\n",
       "\\item 'qD01.0'\n",
       "\\item 'qD10.0'\n",
       "\\item 'qE01.0'\n",
       "\\item 'qE10.0'\n",
       "\\item 'qF01.0'\n",
       "\\item 'qF10.0'\n",
       "\\end{enumerate*}\n"
      ],
      "text/markdown": [
       "1. 'lambda0'\n",
       "2. 'mu0'\n",
       "3. 'qA01.0'\n",
       "4. 'qA10.0'\n",
       "5. 'qB01.0'\n",
       "6. 'qB10.0'\n",
       "7. 'qC01.0'\n",
       "8. 'qC10.0'\n",
       "9. 'qD01.0'\n",
       "10. 'qD10.0'\n",
       "11. 'qE01.0'\n",
       "12. 'qE10.0'\n",
       "13. 'qF01.0'\n",
       "14. 'qF10.0'\n",
       "\n",
       "\n"
      ],
      "text/plain": [
       " [1] \"lambda0\" \"mu0\"     \"qA01.0\"  \"qA10.0\"  \"qB01.0\"  \"qB10.0\"  \"qC01.0\" \n",
       " [8] \"qC10.0\"  \"qD01.0\"  \"qD10.0\"  \"qE01.0\"  \"qE10.0\"  \"qF01.0\"  \"qF10.0\" "
      ]
     },
     "metadata": {},
     "output_type": "display_data"
    }
   ],
   "source": [
    "lik0 <- make.musse.multitrait(phy2.0, states2, sampling.f = samp_frac, depth = 0)\n",
    "argnames(lik0)\n",
    "p <- starting.point.musse.multitrait(phy2.0, lik0)\n",
    "fit0 <- find.mle(lik0, p)"
   ]
  },
  {
   "cell_type": "markdown",
   "metadata": {},
   "source": [
    "### Speciation 1 model (no combinaison)"
   ]
  },
  {
   "cell_type": "code",
   "execution_count": 22,
   "metadata": {},
   "outputs": [],
   "source": [
    "### Speciation 1 model (no combinaison)"
   ]
  },
  {
   "cell_type": "code",
   "execution_count": 23,
   "metadata": {
    "scrolled": true
   },
   "outputs": [
    {
     "data": {
      "text/html": [
       "<style>\n",
       ".list-inline {list-style: none; margin:0; padding: 0}\n",
       ".list-inline>li {display: inline-block}\n",
       ".list-inline>li:not(:last-child)::after {content: \"\\00b7\"; padding: 0 .5ex}\n",
       "</style>\n",
       "<ol class=list-inline><li>'lambda0'</li><li>'lambdaA'</li><li>'lambdaB'</li><li>'lambdaC'</li><li>'lambdaD'</li><li>'lambdaE'</li><li>'lambdaF'</li><li>'mu0'</li><li>'qA01.0'</li><li>'qA10.0'</li><li>'qB01.0'</li><li>'qB10.0'</li><li>'qC01.0'</li><li>'qC10.0'</li><li>'qD01.0'</li><li>'qD10.0'</li><li>'qE01.0'</li><li>'qE10.0'</li><li>'qF01.0'</li><li>'qF10.0'</li></ol>\n"
      ],
      "text/latex": [
       "\\begin{enumerate*}\n",
       "\\item 'lambda0'\n",
       "\\item 'lambdaA'\n",
       "\\item 'lambdaB'\n",
       "\\item 'lambdaC'\n",
       "\\item 'lambdaD'\n",
       "\\item 'lambdaE'\n",
       "\\item 'lambdaF'\n",
       "\\item 'mu0'\n",
       "\\item 'qA01.0'\n",
       "\\item 'qA10.0'\n",
       "\\item 'qB01.0'\n",
       "\\item 'qB10.0'\n",
       "\\item 'qC01.0'\n",
       "\\item 'qC10.0'\n",
       "\\item 'qD01.0'\n",
       "\\item 'qD10.0'\n",
       "\\item 'qE01.0'\n",
       "\\item 'qE10.0'\n",
       "\\item 'qF01.0'\n",
       "\\item 'qF10.0'\n",
       "\\end{enumerate*}\n"
      ],
      "text/markdown": [
       "1. 'lambda0'\n",
       "2. 'lambdaA'\n",
       "3. 'lambdaB'\n",
       "4. 'lambdaC'\n",
       "5. 'lambdaD'\n",
       "6. 'lambdaE'\n",
       "7. 'lambdaF'\n",
       "8. 'mu0'\n",
       "9. 'qA01.0'\n",
       "10. 'qA10.0'\n",
       "11. 'qB01.0'\n",
       "12. 'qB10.0'\n",
       "13. 'qC01.0'\n",
       "14. 'qC10.0'\n",
       "15. 'qD01.0'\n",
       "16. 'qD10.0'\n",
       "17. 'qE01.0'\n",
       "18. 'qE10.0'\n",
       "19. 'qF01.0'\n",
       "20. 'qF10.0'\n",
       "\n",
       "\n"
      ],
      "text/plain": [
       " [1] \"lambda0\" \"lambdaA\" \"lambdaB\" \"lambdaC\" \"lambdaD\" \"lambdaE\" \"lambdaF\"\n",
       " [8] \"mu0\"     \"qA01.0\"  \"qA10.0\"  \"qB01.0\"  \"qB10.0\"  \"qC01.0\"  \"qC10.0\" \n",
       "[15] \"qD01.0\"  \"qD10.0\"  \"qE01.0\"  \"qE10.0\"  \"qF01.0\"  \"qF10.0\" "
      ]
     },
     "metadata": {},
     "output_type": "display_data"
    }
   ],
   "source": [
    "lik_sp1 <- make.musse.multitrait(phy2.0, states2, sampling.f = samp_frac, depth = c(1, 0, 0))\n",
    "argnames(lik_sp1)\n",
    "p <- starting.point.musse.multitrait(phy2.0, lik_sp1)\n",
    "fit_sp1 <- find.mle(lik_sp1, p)"
   ]
  },
  {
   "cell_type": "markdown",
   "metadata": {},
   "source": [
    "### Speciation 2 model (combinaison of two traits allowed)"
   ]
  },
  {
   "cell_type": "code",
   "execution_count": 24,
   "metadata": {},
   "outputs": [],
   "source": [
    "### Speciation 2 model (combinaison of two traits allowed)"
   ]
  },
  {
   "cell_type": "code",
   "execution_count": 25,
   "metadata": {},
   "outputs": [
    {
     "data": {
      "text/html": [
       "<style>\n",
       ".list-inline {list-style: none; margin:0; padding: 0}\n",
       ".list-inline>li {display: inline-block}\n",
       ".list-inline>li:not(:last-child)::after {content: \"\\00b7\"; padding: 0 .5ex}\n",
       "</style>\n",
       "<ol class=list-inline><li>'lambda0'</li><li>'lambdaA'</li><li>'lambdaB'</li><li>'lambdaC'</li><li>'lambdaD'</li><li>'lambdaE'</li><li>'lambdaF'</li><li>'lambdaAB'</li><li>'lambdaAC'</li><li>'lambdaAD'</li><li>'lambdaAE'</li><li>'lambdaAF'</li><li>'lambdaBC'</li><li>'lambdaBD'</li><li>'lambdaBE'</li><li>'lambdaBF'</li><li>'lambdaCD'</li><li>'lambdaCE'</li><li>'lambdaCF'</li><li>'lambdaDE'</li><li>'lambdaDF'</li><li>'lambdaEF'</li><li>'mu0'</li><li>'qA01.0'</li><li>'qA10.0'</li><li>'qB01.0'</li><li>'qB10.0'</li><li>'qC01.0'</li><li>'qC10.0'</li><li>'qD01.0'</li><li>'qD10.0'</li><li>'qE01.0'</li><li>'qE10.0'</li><li>'qF01.0'</li><li>'qF10.0'</li></ol>\n"
      ],
      "text/latex": [
       "\\begin{enumerate*}\n",
       "\\item 'lambda0'\n",
       "\\item 'lambdaA'\n",
       "\\item 'lambdaB'\n",
       "\\item 'lambdaC'\n",
       "\\item 'lambdaD'\n",
       "\\item 'lambdaE'\n",
       "\\item 'lambdaF'\n",
       "\\item 'lambdaAB'\n",
       "\\item 'lambdaAC'\n",
       "\\item 'lambdaAD'\n",
       "\\item 'lambdaAE'\n",
       "\\item 'lambdaAF'\n",
       "\\item 'lambdaBC'\n",
       "\\item 'lambdaBD'\n",
       "\\item 'lambdaBE'\n",
       "\\item 'lambdaBF'\n",
       "\\item 'lambdaCD'\n",
       "\\item 'lambdaCE'\n",
       "\\item 'lambdaCF'\n",
       "\\item 'lambdaDE'\n",
       "\\item 'lambdaDF'\n",
       "\\item 'lambdaEF'\n",
       "\\item 'mu0'\n",
       "\\item 'qA01.0'\n",
       "\\item 'qA10.0'\n",
       "\\item 'qB01.0'\n",
       "\\item 'qB10.0'\n",
       "\\item 'qC01.0'\n",
       "\\item 'qC10.0'\n",
       "\\item 'qD01.0'\n",
       "\\item 'qD10.0'\n",
       "\\item 'qE01.0'\n",
       "\\item 'qE10.0'\n",
       "\\item 'qF01.0'\n",
       "\\item 'qF10.0'\n",
       "\\end{enumerate*}\n"
      ],
      "text/markdown": [
       "1. 'lambda0'\n",
       "2. 'lambdaA'\n",
       "3. 'lambdaB'\n",
       "4. 'lambdaC'\n",
       "5. 'lambdaD'\n",
       "6. 'lambdaE'\n",
       "7. 'lambdaF'\n",
       "8. 'lambdaAB'\n",
       "9. 'lambdaAC'\n",
       "10. 'lambdaAD'\n",
       "11. 'lambdaAE'\n",
       "12. 'lambdaAF'\n",
       "13. 'lambdaBC'\n",
       "14. 'lambdaBD'\n",
       "15. 'lambdaBE'\n",
       "16. 'lambdaBF'\n",
       "17. 'lambdaCD'\n",
       "18. 'lambdaCE'\n",
       "19. 'lambdaCF'\n",
       "20. 'lambdaDE'\n",
       "21. 'lambdaDF'\n",
       "22. 'lambdaEF'\n",
       "23. 'mu0'\n",
       "24. 'qA01.0'\n",
       "25. 'qA10.0'\n",
       "26. 'qB01.0'\n",
       "27. 'qB10.0'\n",
       "28. 'qC01.0'\n",
       "29. 'qC10.0'\n",
       "30. 'qD01.0'\n",
       "31. 'qD10.0'\n",
       "32. 'qE01.0'\n",
       "33. 'qE10.0'\n",
       "34. 'qF01.0'\n",
       "35. 'qF10.0'\n",
       "\n",
       "\n"
      ],
      "text/plain": [
       " [1] \"lambda0\"  \"lambdaA\"  \"lambdaB\"  \"lambdaC\"  \"lambdaD\"  \"lambdaE\" \n",
       " [7] \"lambdaF\"  \"lambdaAB\" \"lambdaAC\" \"lambdaAD\" \"lambdaAE\" \"lambdaAF\"\n",
       "[13] \"lambdaBC\" \"lambdaBD\" \"lambdaBE\" \"lambdaBF\" \"lambdaCD\" \"lambdaCE\"\n",
       "[19] \"lambdaCF\" \"lambdaDE\" \"lambdaDF\" \"lambdaEF\" \"mu0\"      \"qA01.0\"  \n",
       "[25] \"qA10.0\"   \"qB01.0\"   \"qB10.0\"   \"qC01.0\"   \"qC10.0\"   \"qD01.0\"  \n",
       "[31] \"qD10.0\"   \"qE01.0\"   \"qE10.0\"   \"qF01.0\"   \"qF10.0\"  "
      ]
     },
     "metadata": {},
     "output_type": "display_data"
    },
    {
     "name": "stderr",
     "output_type": "stream",
     "text": [
      "Warning message in mle.search(func2, x.init, control, lower, upper):\n",
      "“Convergence problems in find.mle (subplex): number of function evaluations exceeds 'maxit'”\n"
     ]
    }
   ],
   "source": [
    "lik_sp2 <- make.musse.multitrait(phy2.0, states2, sampling.f = samp_frac, depth = c(2, 0, 0))\n",
    "argnames(lik_sp2)\n",
    "p <- starting.point.musse.multitrait(phy2.0, lik_sp2)\n",
    "fit_sp2 <- find.mle(lik_sp2, p)"
   ]
  },
  {
   "cell_type": "markdown",
   "metadata": {},
   "source": [
    "### Speciation 3 model (combinaison of three traits allowed)"
   ]
  },
  {
   "cell_type": "code",
   "execution_count": 26,
   "metadata": {},
   "outputs": [],
   "source": [
    "### Speciation 2 model (combinaison of three traits allowed)"
   ]
  },
  {
   "cell_type": "code",
   "execution_count": 27,
   "metadata": {},
   "outputs": [
    {
     "data": {
      "text/html": [
       "<style>\n",
       ".list-inline {list-style: none; margin:0; padding: 0}\n",
       ".list-inline>li {display: inline-block}\n",
       ".list-inline>li:not(:last-child)::after {content: \"\\00b7\"; padding: 0 .5ex}\n",
       "</style>\n",
       "<ol class=list-inline><li>'lambda0'</li><li>'lambdaA'</li><li>'lambdaB'</li><li>'lambdaC'</li><li>'lambdaD'</li><li>'lambdaE'</li><li>'lambdaF'</li><li>'lambdaAB'</li><li>'lambdaAC'</li><li>'lambdaAD'</li><li>'lambdaAE'</li><li>'lambdaAF'</li><li>'lambdaBC'</li><li>'lambdaBD'</li><li>'lambdaBE'</li><li>'lambdaBF'</li><li>'lambdaCD'</li><li>'lambdaCE'</li><li>'lambdaCF'</li><li>'lambdaDE'</li><li>'lambdaDF'</li><li>'lambdaEF'</li><li>'lambdaABC'</li><li>'lambdaABD'</li><li>'lambdaABE'</li><li>'lambdaABF'</li><li>'lambdaACD'</li><li>'lambdaACE'</li><li>'lambdaACF'</li><li>'lambdaADE'</li><li>'lambdaADF'</li><li>'lambdaAEF'</li><li>'lambdaBCD'</li><li>'lambdaBCE'</li><li>'lambdaBCF'</li><li>'lambdaBDE'</li><li>'lambdaBDF'</li><li>'lambdaBEF'</li><li>'lambdaCDE'</li><li>'lambdaCDF'</li><li>'lambdaCEF'</li><li>'lambdaDEF'</li><li>'mu0'</li><li>'qA01.0'</li><li>'qA10.0'</li><li>'qB01.0'</li><li>'qB10.0'</li><li>'qC01.0'</li><li>'qC10.0'</li><li>'qD01.0'</li><li>'qD10.0'</li><li>'qE01.0'</li><li>'qE10.0'</li><li>'qF01.0'</li><li>'qF10.0'</li></ol>\n"
      ],
      "text/latex": [
       "\\begin{enumerate*}\n",
       "\\item 'lambda0'\n",
       "\\item 'lambdaA'\n",
       "\\item 'lambdaB'\n",
       "\\item 'lambdaC'\n",
       "\\item 'lambdaD'\n",
       "\\item 'lambdaE'\n",
       "\\item 'lambdaF'\n",
       "\\item 'lambdaAB'\n",
       "\\item 'lambdaAC'\n",
       "\\item 'lambdaAD'\n",
       "\\item 'lambdaAE'\n",
       "\\item 'lambdaAF'\n",
       "\\item 'lambdaBC'\n",
       "\\item 'lambdaBD'\n",
       "\\item 'lambdaBE'\n",
       "\\item 'lambdaBF'\n",
       "\\item 'lambdaCD'\n",
       "\\item 'lambdaCE'\n",
       "\\item 'lambdaCF'\n",
       "\\item 'lambdaDE'\n",
       "\\item 'lambdaDF'\n",
       "\\item 'lambdaEF'\n",
       "\\item 'lambdaABC'\n",
       "\\item 'lambdaABD'\n",
       "\\item 'lambdaABE'\n",
       "\\item 'lambdaABF'\n",
       "\\item 'lambdaACD'\n",
       "\\item 'lambdaACE'\n",
       "\\item 'lambdaACF'\n",
       "\\item 'lambdaADE'\n",
       "\\item 'lambdaADF'\n",
       "\\item 'lambdaAEF'\n",
       "\\item 'lambdaBCD'\n",
       "\\item 'lambdaBCE'\n",
       "\\item 'lambdaBCF'\n",
       "\\item 'lambdaBDE'\n",
       "\\item 'lambdaBDF'\n",
       "\\item 'lambdaBEF'\n",
       "\\item 'lambdaCDE'\n",
       "\\item 'lambdaCDF'\n",
       "\\item 'lambdaCEF'\n",
       "\\item 'lambdaDEF'\n",
       "\\item 'mu0'\n",
       "\\item 'qA01.0'\n",
       "\\item 'qA10.0'\n",
       "\\item 'qB01.0'\n",
       "\\item 'qB10.0'\n",
       "\\item 'qC01.0'\n",
       "\\item 'qC10.0'\n",
       "\\item 'qD01.0'\n",
       "\\item 'qD10.0'\n",
       "\\item 'qE01.0'\n",
       "\\item 'qE10.0'\n",
       "\\item 'qF01.0'\n",
       "\\item 'qF10.0'\n",
       "\\end{enumerate*}\n"
      ],
      "text/markdown": [
       "1. 'lambda0'\n",
       "2. 'lambdaA'\n",
       "3. 'lambdaB'\n",
       "4. 'lambdaC'\n",
       "5. 'lambdaD'\n",
       "6. 'lambdaE'\n",
       "7. 'lambdaF'\n",
       "8. 'lambdaAB'\n",
       "9. 'lambdaAC'\n",
       "10. 'lambdaAD'\n",
       "11. 'lambdaAE'\n",
       "12. 'lambdaAF'\n",
       "13. 'lambdaBC'\n",
       "14. 'lambdaBD'\n",
       "15. 'lambdaBE'\n",
       "16. 'lambdaBF'\n",
       "17. 'lambdaCD'\n",
       "18. 'lambdaCE'\n",
       "19. 'lambdaCF'\n",
       "20. 'lambdaDE'\n",
       "21. 'lambdaDF'\n",
       "22. 'lambdaEF'\n",
       "23. 'lambdaABC'\n",
       "24. 'lambdaABD'\n",
       "25. 'lambdaABE'\n",
       "26. 'lambdaABF'\n",
       "27. 'lambdaACD'\n",
       "28. 'lambdaACE'\n",
       "29. 'lambdaACF'\n",
       "30. 'lambdaADE'\n",
       "31. 'lambdaADF'\n",
       "32. 'lambdaAEF'\n",
       "33. 'lambdaBCD'\n",
       "34. 'lambdaBCE'\n",
       "35. 'lambdaBCF'\n",
       "36. 'lambdaBDE'\n",
       "37. 'lambdaBDF'\n",
       "38. 'lambdaBEF'\n",
       "39. 'lambdaCDE'\n",
       "40. 'lambdaCDF'\n",
       "41. 'lambdaCEF'\n",
       "42. 'lambdaDEF'\n",
       "43. 'mu0'\n",
       "44. 'qA01.0'\n",
       "45. 'qA10.0'\n",
       "46. 'qB01.0'\n",
       "47. 'qB10.0'\n",
       "48. 'qC01.0'\n",
       "49. 'qC10.0'\n",
       "50. 'qD01.0'\n",
       "51. 'qD10.0'\n",
       "52. 'qE01.0'\n",
       "53. 'qE10.0'\n",
       "54. 'qF01.0'\n",
       "55. 'qF10.0'\n",
       "\n",
       "\n"
      ],
      "text/plain": [
       " [1] \"lambda0\"   \"lambdaA\"   \"lambdaB\"   \"lambdaC\"   \"lambdaD\"   \"lambdaE\"  \n",
       " [7] \"lambdaF\"   \"lambdaAB\"  \"lambdaAC\"  \"lambdaAD\"  \"lambdaAE\"  \"lambdaAF\" \n",
       "[13] \"lambdaBC\"  \"lambdaBD\"  \"lambdaBE\"  \"lambdaBF\"  \"lambdaCD\"  \"lambdaCE\" \n",
       "[19] \"lambdaCF\"  \"lambdaDE\"  \"lambdaDF\"  \"lambdaEF\"  \"lambdaABC\" \"lambdaABD\"\n",
       "[25] \"lambdaABE\" \"lambdaABF\" \"lambdaACD\" \"lambdaACE\" \"lambdaACF\" \"lambdaADE\"\n",
       "[31] \"lambdaADF\" \"lambdaAEF\" \"lambdaBCD\" \"lambdaBCE\" \"lambdaBCF\" \"lambdaBDE\"\n",
       "[37] \"lambdaBDF\" \"lambdaBEF\" \"lambdaCDE\" \"lambdaCDF\" \"lambdaCEF\" \"lambdaDEF\"\n",
       "[43] \"mu0\"       \"qA01.0\"    \"qA10.0\"    \"qB01.0\"    \"qB10.0\"    \"qC01.0\"   \n",
       "[49] \"qC10.0\"    \"qD01.0\"    \"qD10.0\"    \"qE01.0\"    \"qE10.0\"    \"qF01.0\"   \n",
       "[55] \"qF10.0\"   "
      ]
     },
     "metadata": {},
     "output_type": "display_data"
    },
    {
     "name": "stderr",
     "output_type": "stream",
     "text": [
      "Warning message in mle.search(func2, x.init, control, lower, upper):\n",
      "“Convergence problems in find.mle (subplex): number of function evaluations exceeds 'maxit'”\n"
     ]
    }
   ],
   "source": [
    "lik_sp3 <- make.musse.multitrait(phy2.0, states2, sampling.f = samp_frac, depth = c(3, 0, 0))\n",
    "argnames(lik_sp3)\n",
    "p <- starting.point.musse.multitrait(phy2.0, lik_sp3)\n",
    "fit_sp3 <- find.mle(lik_sp3, p)"
   ]
  },
  {
   "cell_type": "markdown",
   "metadata": {},
   "source": [
    "### Comparing models"
   ]
  },
  {
   "cell_type": "code",
   "execution_count": 28,
   "metadata": {},
   "outputs": [],
   "source": [
    "### Comparing models"
   ]
  },
  {
   "cell_type": "code",
   "execution_count": 29,
   "metadata": {},
   "outputs": [],
   "source": [
    "# Aicc function\n",
    "aicc<-function(ll,k){round((2*(-round(ll,4))+2*k+(2*k*(k+1))/(Ntip(phy2.0)-k-1)),3)}"
   ]
  },
  {
   "cell_type": "code",
   "execution_count": 35,
   "metadata": {},
   "outputs": [],
   "source": [
    "aicc_vec<-c(aicc(fit0$lnLik, length(argnames(lik0))), aicc(fit_sp1$lnLik, length(argnames(lik_sp1))), aicc(fit_sp2$lnLik, length(argnames(lik_sp2))),aicc(fit_sp3$lnLik, length(argnames(lik_sp3))))"
   ]
  },
  {
   "cell_type": "code",
   "execution_count": 41,
   "metadata": {},
   "outputs": [],
   "source": [
    "habitat_binary_model_comp<-as.data.frame(cbind(c(fit0$lnLik, fit_sp1$lnLik, fit_sp2$lnLik, fit_sp3$lnLik), c(length(argnames(lik0)), length(argnames(lik_sp1)), length(argnames(lik_sp2)), length(argnames(lik_sp3))), aicc_vec, round(akaike.weights(aicc_vec)$deltaAIC, 3), round(akaike.weights(aicc_vec)$weights, 3)))"
   ]
  },
  {
   "cell_type": "code",
   "execution_count": 42,
   "metadata": {},
   "outputs": [],
   "source": [
    "colnames(habitat_binary_model_comp)<-c(\"log likelihood\", \"number of parameters\", \"AICc\", \"Delta AIC\", \"AIC weights\")\n",
    "rownames(habitat_binary_model_comp)<-c(\"Null model\", \"Speciation 1\", \"Speciation 2\", \"Speciation 3\")"
   ]
  },
  {
   "cell_type": "code",
   "execution_count": 43,
   "metadata": {},
   "outputs": [
    {
     "data": {
      "text/html": [
       "<table class=\"dataframe\">\n",
       "<caption>A data.frame: 4 × 5</caption>\n",
       "<thead>\n",
       "\t<tr><th></th><th scope=col>log likelihood</th><th scope=col>number of parameters</th><th scope=col>AICc</th><th scope=col>Delta AIC</th><th scope=col>AIC weights</th></tr>\n",
       "\t<tr><th></th><th scope=col>&lt;dbl&gt;</th><th scope=col>&lt;dbl&gt;</th><th scope=col>&lt;dbl&gt;</th><th scope=col>&lt;dbl&gt;</th><th scope=col>&lt;dbl&gt;</th></tr>\n",
       "</thead>\n",
       "<tbody>\n",
       "\t<tr><th scope=row>Null model</th><td>-2606.707</td><td>14</td><td>5242.578</td><td>23.474</td><td>0</td></tr>\n",
       "\t<tr><th scope=row>Speciation 1</th><td>-2597.930</td><td>20</td><td>5238.225</td><td>19.121</td><td>0</td></tr>\n",
       "\t<tr><th scope=row>Speciation 2</th><td>-2570.846</td><td>35</td><td>5219.104</td><td> 0.000</td><td>1</td></tr>\n",
       "\t<tr><th scope=row>Speciation 3</th><td>-2564.656</td><td>55</td><td>5258.562</td><td>39.458</td><td>0</td></tr>\n",
       "</tbody>\n",
       "</table>\n"
      ],
      "text/latex": [
       "A data.frame: 4 × 5\n",
       "\\begin{tabular}{r|lllll}\n",
       "  & log likelihood & number of parameters & AICc & Delta AIC & AIC weights\\\\\n",
       "  & <dbl> & <dbl> & <dbl> & <dbl> & <dbl>\\\\\n",
       "\\hline\n",
       "\tNull model & -2606.707 & 14 & 5242.578 & 23.474 & 0\\\\\n",
       "\tSpeciation 1 & -2597.930 & 20 & 5238.225 & 19.121 & 0\\\\\n",
       "\tSpeciation 2 & -2570.846 & 35 & 5219.104 &  0.000 & 1\\\\\n",
       "\tSpeciation 3 & -2564.656 & 55 & 5258.562 & 39.458 & 0\\\\\n",
       "\\end{tabular}\n"
      ],
      "text/markdown": [
       "\n",
       "A data.frame: 4 × 5\n",
       "\n",
       "| <!--/--> | log likelihood &lt;dbl&gt; | number of parameters &lt;dbl&gt; | AICc &lt;dbl&gt; | Delta AIC &lt;dbl&gt; | AIC weights &lt;dbl&gt; |\n",
       "|---|---|---|---|---|---|\n",
       "| Null model | -2606.707 | 14 | 5242.578 | 23.474 | 0 |\n",
       "| Speciation 1 | -2597.930 | 20 | 5238.225 | 19.121 | 0 |\n",
       "| Speciation 2 | -2570.846 | 35 | 5219.104 |  0.000 | 1 |\n",
       "| Speciation 3 | -2564.656 | 55 | 5258.562 | 39.458 | 0 |\n",
       "\n"
      ],
      "text/plain": [
       "             log likelihood number of parameters AICc     Delta AIC AIC weights\n",
       "Null model   -2606.707      14                   5242.578 23.474    0          \n",
       "Speciation 1 -2597.930      20                   5238.225 19.121    0          \n",
       "Speciation 2 -2570.846      35                   5219.104  0.000    1          \n",
       "Speciation 3 -2564.656      55                   5258.562 39.458    0          "
      ]
     },
     "metadata": {},
     "output_type": "display_data"
    }
   ],
   "source": [
    "habitat_binary_model_comp"
   ]
  },
  {
   "cell_type": "code",
   "execution_count": 44,
   "metadata": {},
   "outputs": [],
   "source": [
    "write.table(habitat_binary_model_comp, \"Path/to/your/exit.file\", sep =\"\\t\")"
   ]
  }
 ],
 "metadata": {
  "kernelspec": {
   "display_name": "R",
   "language": "R",
   "name": "ir"
  },
  "language_info": {
   "codemirror_mode": "r",
   "file_extension": ".r",
   "mimetype": "text/x-r-source",
   "name": "R",
   "pygments_lexer": "r",
   "version": "4.2.2"
  }
 },
 "nbformat": 4,
 "nbformat_minor": 5
}
